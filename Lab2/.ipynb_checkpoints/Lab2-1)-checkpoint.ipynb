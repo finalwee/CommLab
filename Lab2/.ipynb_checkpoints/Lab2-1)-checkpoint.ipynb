{
 "cells": [
  {
   "cell_type": "code",
   "execution_count": 62,
   "id": "857981bd",
   "metadata": {},
   "outputs": [
    {
     "name": "stderr",
     "output_type": "stream",
     "text": [
      "configrc.store_credentials:WARNING:2021-10-19 18:04:02,323: Credentials already present. Set overwrite=True to overwrite.\n"
     ]
    }
   ],
   "source": [
    "apitoken = '0ac08bc0e23b22dcff4888822d56241be15b0a64e77e94c42639a524404aafbc7df008ab6043e4706b3b82aa42f03c06464b3c253b92ddf1337e80048cf53be0'\n",
    "IBMQ.save_account(apitoken)"
   ]
  },
  {
   "cell_type": "code",
   "execution_count": 107,
   "id": "7d84c657",
   "metadata": {},
   "outputs": [
    {
     "name": "stdout",
     "output_type": "stream",
     "text": [
      "[1 0 1 1]\n"
     ]
    }
   ],
   "source": [
    "from qiskit import *\n",
    "from qiskit.visualization import plot_histogram, plot_bloch_multivector\n",
    "from numpy.random import randint\n",
    "import numpy as np\n",
    "\n",
    "# Setting the random seed\n",
    "np.random.seed(seed=5)# You may choose any seed instead of just `0'\n",
    "n = 4 # This is the number of bits in the string\n",
    "alice_bits = randint(2, size=n)\n",
    "print(alice_bits)"
   ]
  },
  {
   "cell_type": "code",
   "execution_count": 108,
   "id": "f75fcbcf",
   "metadata": {},
   "outputs": [],
   "source": [
    "# q = QuantumRegister(2)\n",
    "# c = ClassicalRegister(2)\n",
    "circuit = QuantumCircuit(2)"
   ]
  },
  {
   "cell_type": "code",
   "execution_count": 109,
   "id": "5a570e1e",
   "metadata": {},
   "outputs": [],
   "source": [
    "def callBellPair(circuit):\n",
    "    circuit.h(1)\n",
    "    circuit.cx(1, 0)\n",
    "    \n",
    "    return circuit\n",
    "\n",
    "def encodeMsg(circuit, qubit, msg):\n",
    "    if len(msg) > 2:\n",
    "        raise ValueError(f\"message '{msg}' is invalid\")\n",
    "        \n",
    "    if msg[1] == 1:\n",
    "        circuit.x(qubit)\n",
    "    \n",
    "    if msg[0] == 1:\n",
    "        circuit.z(qubit)\n",
    "        \n",
    "    return circuit\n",
    "\n",
    "def decodeMsg(circuit):\n",
    "    circuit.cx(1, 0)\n",
    "    circuit.h(1)\n",
    "    \n",
    "#     circuit.measure(q, c)\n",
    "    circuit.measure_all()\n",
    "    \n",
    "    return circuit\n",
    "\n",
    "def reset(circuit, qubit):\n",
    "    circuit.reset(qubit)\n",
    "    \n",
    "    return circuit"
   ]
  },
  {
   "cell_type": "code",
   "execution_count": 110,
   "id": "93de41f2",
   "metadata": {},
   "outputs": [
    {
     "data": {
      "text/html": [
       "<pre style=\"word-wrap: normal;white-space: pre;background: #fff0;line-height: 1.1;font-family: &quot;Courier New&quot;,Courier,monospace\">               ┌───┐          ┌───┐ ░ ┌─┐               ┌───┐               »\n",
       "     q_0: ─────┤ X ├───────■──┤ H ├─░─┤M├─|0>───────────┤ X ├────────────■──»\n",
       "          ┌───┐└─┬─┘┌───┐┌─┴─┐└───┘ ░ └╥┘ ┌─┐      ┌───┐└─┬─┘┌───┐┌───┐┌─┴─┐»\n",
       "     q_1: ┤ H ├──■──┤ Z ├┤ X ├──────░──╫──┤M├──|0>─┤ H ├──■──┤ X ├┤ Z ├┤ X ├»\n",
       "          └───┘     └───┘└───┘      ░  ║  └╥┘      └───┘     └───┘└───┘└───┘»\n",
       "  meas: 2/═════════════════════════════╩═══╩════════════════════════════════»\n",
       "                                       0   1                                »\n",
       "meas18: 2/══════════════════════════════════════════════════════════════════»\n",
       "                                                                            »\n",
       "«          ┌───┐ ░ ┌─┐   \n",
       "«     q_0: ┤ H ├─░─┤M├───\n",
       "«          └───┘ ░ └╥┘┌─┐\n",
       "«     q_1: ──────░──╫─┤M├\n",
       "«                ░  ║ └╥┘\n",
       "«  meas: 2/═════════╬══╬═\n",
       "«                   ║  ║ \n",
       "«meas18: 2/═════════╩══╩═\n",
       "«                   0  1 </pre>"
      ],
      "text/plain": [
       "               ┌───┐          ┌───┐ ░ ┌─┐               ┌───┐               »\n",
       "     q_0: ─────┤ X ├───────■──┤ H ├─░─┤M├─|0>───────────┤ X ├────────────■──»\n",
       "          ┌───┐└─┬─┘┌───┐┌─┴─┐└───┘ ░ └╥┘ ┌─┐      ┌───┐└─┬─┘┌───┐┌───┐┌─┴─┐»\n",
       "     q_1: ┤ H ├──■──┤ Z ├┤ X ├──────░──╫──┤M├──|0>─┤ H ├──■──┤ X ├┤ Z ├┤ X ├»\n",
       "          └───┘     └───┘└───┘      ░  ║  └╥┘      └───┘     └───┘└───┘└───┘»\n",
       "  meas: 2/═════════════════════════════╩═══╩════════════════════════════════»\n",
       "                                       0   1                                »\n",
       "meas18: 2/══════════════════════════════════════════════════════════════════»\n",
       "                                                                            »\n",
       "«          ┌───┐ ░ ┌─┐   \n",
       "«     q_0: ┤ H ├─░─┤M├───\n",
       "«          └───┘ ░ └╥┘┌─┐\n",
       "«     q_1: ──────░──╫─┤M├\n",
       "«                ░  ║ └╥┘\n",
       "«  meas: 2/═════════╬══╬═\n",
       "«                   ║  ║ \n",
       "«meas18: 2/═════════╩══╩═\n",
       "«                   0  1 "
      ]
     },
     "execution_count": 110,
     "metadata": {},
     "output_type": "execute_result"
    }
   ],
   "source": [
    "message = ''\n",
    "while len(alice_bits) >= 2:\n",
    "    \n",
    "    msg = alice_bits[:2]\n",
    "    message = str(msg[0]) + str(msg[1]) + message\n",
    "    \n",
    "    circuit = callBellPair(circuit)\n",
    "\n",
    "    circuit = encodeMsg(circuit, 1, msg)\n",
    "\n",
    "    circuit = decodeMsg(circuit)\n",
    "    \n",
    "    alice_bits = alice_bits[2:]\n",
    "    \n",
    "    if len(alice_bits) >= 2:\n",
    "        circuit = reset(circuit, 0)\n",
    "        circuit = reset(circuit, 1)\n",
    "        message = ' ' + message\n",
    "circuit.draw()"
   ]
  },
  {
   "cell_type": "code",
   "execution_count": 111,
   "id": "b0cf6d46",
   "metadata": {},
   "outputs": [
    {
     "name": "stdout",
     "output_type": "stream",
     "text": [
      "{'11 01': 1024}\n"
     ]
    },
    {
     "data": {
      "image/png": "[encoded data removed]",
      "text/plain": [
       "<Figure size 504x360 with 1 Axes>"
      ]
     },
     "execution_count": 111,
     "metadata": {},
     "output_type": "execute_result"
    }
   ],
   "source": [
    "simulator = Aer.get_backend('qasm_simulator')\n",
    "job = execute(circuit, simulator, shots = 1024)\n",
    "result = job.result()\n",
    "counts = result.get_counts()\n",
    "print(counts)\n",
    "plot_histogram(counts)"
   ]
  },
  {
   "cell_type": "code",
   "execution_count": 105,
   "id": "dd6e3607",
   "metadata": {},
   "outputs": [
    {
     "name": "stderr",
     "output_type": "stream",
     "text": [
      "ibmqfactory.load_account:WARNING:2021-10-19 18:16:25,204: Credentials are already in use. The existing account in the session will be replaced.\n"
     ]
    },
    {
     "name": "stdout",
     "output_type": "stream",
     "text": [
      "Job Status: job has successfully run\n",
      "{'00 10': 5, '01 01': 1, '01 10': 58, '10 01': 1, '10 10': 24, '10 11': 2, '11 00': 24, '11 01': 2, '11 10': 883, '11 11': 24}\n"
     ]
    },
    {
     "data": {
      "image/png": "[encoded data removed]",
      "text/plain": [
       "<Figure size 504x360 with 1 Axes>"
      ]
     },
     "execution_count": 105,
     "metadata": {},
     "output_type": "execute_result"
    }
   ],
   "source": [
    "IBMQ.load_account()\n",
    "provider = IBMQ.get_provider(hub = 'ibm-q', group = 'open', project = 'main')\n",
    "qcomp = provider.get_backend('ibmq_santiago')\n",
    "shots = 1024\n",
    "job = execute(circuit, backend = qcomp, shots = shots)\n",
    "\n",
    "from qiskit.tools.monitor import job_monitor\n",
    "job_monitor(job)\n",
    "\n",
    "result = job.result()\n",
    "counts = result.get_counts(circuit)\n",
    "\n",
    "print(counts)\n",
    "\n",
    "plot_histogram(counts)"
   ]
  },
  {
   "cell_type": "code",
   "execution_count": 106,
   "id": "4c6fa679",
   "metadata": {},
   "outputs": [
    {
     "name": "stdout",
     "output_type": "stream",
     "text": [
      "Accuracy = 86.23%\n"
     ]
    }
   ],
   "source": [
    "correct_result = counts[message]\n",
    "accuracy = (correct_result/shots)*100\n",
    "print(f\"Accuracy = {accuracy:.2f}%\")"
   ]
  },
  {
   "cell_type": "code",
   "execution_count": null,
   "id": "87ddf975",
   "metadata": {},
   "outputs": [],
   "source": []
  }
 ],
 "metadata": {
  "kernelspec": {
   "display_name": "Python 3 (ipykernel)",
   "language": "python",
   "name": "python3"
  },
  "language_info": {
   "codemirror_mode": {
    "name": "ipython",
    "version": 3
   },
   "file_extension": ".py",
   "mimetype": "text/x-python",
   "name": "python",
   "nbconvert_exporter": "python",
   "pygments_lexer": "ipython3",
   "version": "3.9.7"
  }
 },
 "nbformat": 4,
 "nbformat_minor": 5
}
