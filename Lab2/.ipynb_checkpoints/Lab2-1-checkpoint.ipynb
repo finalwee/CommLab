{
 "cells": [
  {
   "cell_type": "code",
   "execution_count": 8,
   "id": "7d84c657",
   "metadata": {
    "scrolled": true
   },
   "outputs": [
    {
     "name": "stdout",
     "output_type": "stream",
     "text": [
      "[1 0 1 0]\n"
     ]
    }
   ],
   "source": [
    "from qiskit import *\n",
    "from qiskit.visualization import plot_histogram, plot_bloch_multivector\n",
    "from numpy.random import randint\n",
    "import numpy as np\n",
    "\n",
    "apitoken = '0ac08bc0e23b22dcff4888822d56241be15b0a64e77e94c42639a524404aafbc7df008ab6043e4706b3b82aa42f03c06464b3c253b92ddf1337e80048cf53be0'\n",
    "IBMQ.save_account(apitoken, overwrite = True)\n",
    "\n",
    "# Setting the random seed\n",
    "np.random.seed(seed=7)# You may choose any seed instead of just `0'\n",
    "n = 4 # This is the number of bits in the string\n",
    "alice_bits = randint(2, size=n)\n",
    "print(alice_bits)"
   ]
  },
  {
   "cell_type": "code",
   "execution_count": 9,
   "id": "5a570e1e",
   "metadata": {},
   "outputs": [],
   "source": [
    "def callBellPair(circuit, h_qubit, x_qubit):\n",
    "    circuit.h(q[h_qubit])\n",
    "    circuit.cx(q[h_qubit], q[x_qubit])\n",
    "    \n",
    "    return circuit\n",
    "\n",
    "def encodeMsg(circuit, qubit, msg):\n",
    "    if len(msg) > 6:\n",
    "        raise ValueError(f\"message '{msg}' is invalid\")\n",
    "    \n",
    "    if msg[0] == 1:\n",
    "        circuit.z(q[qubit])\n",
    "    \n",
    "    if msg[1] == 1:\n",
    "        circuit.x(q[qubit])\n",
    "        \n",
    "    if msg[2] == 1:\n",
    "        circuit.z(q[qubit+2])\n",
    "    \n",
    "    if msg[3] == 1:\n",
    "        circuit.x(q[qubit+2])\n",
    "        \n",
    "    circuit.id(q[qubit])\n",
    "    circuit.id(q[qubit+2])\n",
    "        \n",
    "    return circuit\n",
    "\n",
    "def decodeMsg(circuit, h_qubit, x_qubit):\n",
    "    circuit.cx(q[h_qubit], q[x_qubit])\n",
    "    circuit.h(q[h_qubit])\n",
    "    \n",
    "    return circuit"
   ]
  },
  {
   "cell_type": "code",
   "execution_count": 10,
   "id": "93de41f2",
   "metadata": {},
   "outputs": [
    {
     "name": "stderr",
     "output_type": "stream",
     "text": [
      "ibmqfactory.load_account:WARNING:2021-10-20 20:28:43,722: Credentials are already in use. The existing account in the session will be replaced.\n"
     ]
    },
    {
     "ename": "NameError",
     "evalue": "name 'least_busy' is not defined",
     "output_type": "error",
     "traceback": [
      "\u001b[1;31m---------------------------------------------------------------------------\u001b[0m",
      "\u001b[1;31mNameError\u001b[0m                                 Traceback (most recent call last)",
      "\u001b[1;32m~\\AppData\\Local\\Temp/ipykernel_17312/3326313852.py\u001b[0m in \u001b[0;36m<module>\u001b[1;34m\u001b[0m\n\u001b[0;32m     22\u001b[0m \u001b[1;31m# Get the least busy backend\u001b[0m\u001b[1;33m\u001b[0m\u001b[1;33m\u001b[0m\u001b[1;33m\u001b[0m\u001b[0m\n\u001b[0;32m     23\u001b[0m \u001b[0mprovider\u001b[0m \u001b[1;33m=\u001b[0m \u001b[0mIBMQ\u001b[0m\u001b[1;33m.\u001b[0m\u001b[0mget_provider\u001b[0m\u001b[1;33m(\u001b[0m\u001b[0mhub\u001b[0m\u001b[1;33m=\u001b[0m\u001b[1;34m'ibm-q'\u001b[0m\u001b[1;33m)\u001b[0m\u001b[1;33m\u001b[0m\u001b[1;33m\u001b[0m\u001b[0m\n\u001b[1;32m---> 24\u001b[1;33m backend = least_busy(provider.backends(filters=lambda x:\n\u001b[0m\u001b[0;32m     25\u001b[0m \u001b[0mx\u001b[0m\u001b[1;33m.\u001b[0m\u001b[0mconfiguration\u001b[0m\u001b[1;33m(\u001b[0m\u001b[1;33m)\u001b[0m\u001b[1;33m.\u001b[0m\u001b[0mn_qubits\u001b[0m \u001b[1;33m>=\u001b[0m \u001b[1;36m2\u001b[0m\u001b[1;33m\u001b[0m\u001b[1;33m\u001b[0m\u001b[0m\n\u001b[0;32m     26\u001b[0m \u001b[1;32mand\u001b[0m \u001b[1;32mnot\u001b[0m \u001b[0mx\u001b[0m\u001b[1;33m.\u001b[0m\u001b[0mconfiguration\u001b[0m\u001b[1;33m(\u001b[0m\u001b[1;33m)\u001b[0m\u001b[1;33m.\u001b[0m\u001b[0msimulator\u001b[0m\u001b[1;33m\u001b[0m\u001b[1;33m\u001b[0m\u001b[0m\n",
      "\u001b[1;31mNameError\u001b[0m: name 'least_busy' is not defined"
     ]
    }
   ],
   "source": [
    "alice_bits = np.array([\n",
    "    [0, 0, 0, 0],\n",
    "    [0, 0, 0, 1],\n",
    "    [0, 0, 1, 0],\n",
    "    [0, 1, 0, 0],\n",
    "    [1, 0, 0, 0],\n",
    "    [0, 0, 1, 1],\n",
    "    [0, 1, 1, 0],\n",
    "    [1, 1, 0, 0],\n",
    "    [1, 0, 0, 1],\n",
    "    [0, 1, 1, 1],\n",
    "    [1, 1, 1, 0],\n",
    "    [1, 1, 0, 1],\n",
    "    [1, 0, 1, 1],\n",
    "    [1, 1, 1, 1],\n",
    "])\n",
    "\n",
    "# For IBMQ\n",
    "from qiskit.tools.monitor import job_monitor\n",
    "from qiskit.providers.ibmq import least_busy\n",
    "# Load local account information\n",
    "IBMQ.load_account()\n",
    "# Get the least busy backend\n",
    "provider = IBMQ.get_provider(hub='ibm-q')\n",
    "backend = least_busy(provider.backends(filters=lambda x:\n",
    "x.configuration().n_qubits >= 2\n",
    "and not x.configuration().simulator\n",
    "and x.status().operational==True))\n",
    "print(\"least busy backend: \", backend)\n",
    "\n",
    "shots = 1024\n",
    "\n",
    "for alice in alice_bits:\n",
    "    q = QuantumRegister(4)\n",
    "    c = ClassicalRegister(4)\n",
    "    circuit = QuantumCircuit(q, c)\n",
    "    \n",
    "    circuit = callBellPair(circuit, 1, 0)\n",
    "    circuit = callBellPair(circuit, 3, 2)\n",
    "    circuit.barrier()\n",
    "    circuit = encodeMsg(circuit, 0, alice)\n",
    "    circuit.barrier()\n",
    "    circuit = decodeMsg(circuit, 0, 1)\n",
    "    circuit = decodeMsg(circuit, 2, 3)\n",
    "    \n",
    "    circuit.barrier()\n",
    "    circuit.measure(q, c)\n",
    "    \n",
    "    # For qsam_simulator\n",
    "#     simulator = Aer.get_backend('qasm_simulator')\n",
    "#     job = execute(circuit, simulator, shots = shots)\n",
    "    \n",
    "    # For IBMQ\n",
    "    job = execute(circuit, backend = qcomp, shots = shots)\n",
    "    job_monitor(job)\n",
    "\n",
    "    result = job.result()\n",
    "    counts = result.get_counts(circuit)\n",
    "    \n",
    "    # Flip alice to check accuracy\n",
    "    message = np.flip(alice)\n",
    "    correct_result = counts[''.join(map(str, message))]\n",
    "    accuracy = (correct_result/shots)*100\n",
    "    \n",
    "    message = np.flip(alice)\n",
    "    message = ''.join(map(str, message))\n",
    "\n",
    "    first_qubit = message[:2]\n",
    "    second_qubit = message[2:4]\n",
    "\n",
    "    BER = 0\n",
    "    SER = 0\n",
    "\n",
    "    for state, count in counts.items():\n",
    "        correct_bit = 0\n",
    "        correct_symbol = 0\n",
    "        for i in range(len(state)):\n",
    "            if state[i] == message[i]:\n",
    "                correct_bit += 1\n",
    "        BER += (correct_bit/len(state)*count)\n",
    "\n",
    "        if state[:2] == first_qubit:\n",
    "            correct_symbol += 1\n",
    "\n",
    "        if state[2:4] == second_qubit:\n",
    "            correct_symbol += 1\n",
    "\n",
    "        SER += (correct_symbol/(len(state)/2)*count)\n",
    "        \n",
    "    print(f\"alice send: {alice} ||\", f\"bob get: {counts}\", \"==>\", f\"Accuracy: {accuracy:.2f}%\")\n",
    "    print(f\"SER: {(1-SER/shots)*100:.2f}%\", f\"BER: {(1-BER/shots)*100:.2f}%\")\n",
    "    print(\"================================================================================\")\n",
    "    \n",
    "# circuit.draw()"
   ]
  },
  {
   "cell_type": "code",
   "execution_count": null,
   "id": "54581f65",
   "metadata": {},
   "outputs": [],
   "source": []
  }
 ],
 "metadata": {
  "kernelspec": {
   "display_name": "Python 3 (ipykernel)",
   "language": "python",
   "name": "python3"
  },
  "language_info": {
   "codemirror_mode": {
    "name": "ipython",
    "version": 3
   },
   "file_extension": ".py",
   "mimetype": "text/x-python",
   "name": "python",
   "nbconvert_exporter": "python",
   "pygments_lexer": "ipython3",
   "version": "3.8.12"
  }
 },
 "nbformat": 4,
 "nbformat_minor": 5
}
