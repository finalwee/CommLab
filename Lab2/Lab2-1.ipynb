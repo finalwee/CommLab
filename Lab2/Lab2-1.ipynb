{
 "cells": [
  {
   "cell_type": "code",
   "execution_count": 62,
   "id": "582d81af",
   "metadata": {},
   "outputs": [
    {
     "name": "stderr",
     "output_type": "stream",
     "text": [
      "configrc.store_credentials:WARNING:2021-10-19 18:04:02,323: Credentials already present. Set overwrite=True to overwrite.\n"
     ]
    }
   ],
   "source": [
    "apitoken = '0ac08bc0e23b22dcff4888822d56241be15b0a64e77e94c42639a524404aafbc7df008ab6043e4706b3b82aa42f03c06464b3c253b92ddf1337e80048cf53be0'\n",
    "IBMQ.save_account(apitoken)"
   ]
  },
  {
   "cell_type": "code",
   "execution_count": 344,
   "id": "7d84c657",
   "metadata": {},
   "outputs": [
    {
     "name": "stdout",
     "output_type": "stream",
     "text": [
      "[1 0 1 0]\n"
     ]
    }
   ],
   "source": [
    "from qiskit import *\n",
    "from qiskit.visualization import plot_histogram, plot_bloch_multivector\n",
    "from numpy.random import randint\n",
    "import numpy as np\n",
    "\n",
    "# Setting the random seed\n",
    "np.random.seed(seed=7)# You may choose any seed instead of just `0'\n",
    "n = 4 # This is the number of bits in the string\n",
    "alice_bits = randint(2, size=n)\n",
    "print(alice_bits)"
   ]
  },
  {
   "cell_type": "code",
   "execution_count": 349,
   "id": "5a570e1e",
   "metadata": {},
   "outputs": [],
   "source": [
    "def callBellPair(circuit, h_qubit, x_qubit):\n",
    "    circuit.h(h_qubit)\n",
    "    circuit.cx(h_qubit, x_qubit)\n",
    "\n",
    "def encodeMsg(circuit, qubit, msg):\n",
    "    if len(msg) > 6:\n",
    "        raise ValueError(f\"message '{msg}' is invalid\")\n",
    "    \n",
    "    if msg[0] == 1:\n",
    "        circuit.z(qubit)\n",
    "    \n",
    "    if msg[1] == 1:\n",
    "        circuit.x(qubit)\n",
    "        \n",
    "    if msg[2] == 1:\n",
    "        circuit.z(qubit+2)\n",
    "    \n",
    "    if msg[3] == 1:\n",
    "        circuit.x(qubit+2)\n",
    "        \n",
    "    if msg[4] == 1:\n",
    "        circuit.z(qubit+4)\n",
    "    \n",
    "    if msg[5] == 1:\n",
    "        circuit.x(qubit+4)\n",
    "        \n",
    "    circuit.id(qubit)\n",
    "    circuit.id(qubit+2)\n",
    "    circuit.id(qubit+4)\n",
    "        \n",
    "    return circuit\n",
    "\n",
    "def decodeMsg(circuit, h_qubit, x_qubit):\n",
    "    circuit.cx(h_qubit, x_qubit)\n",
    "    circuit.h(h_qubit)\n",
    "    \n",
    "    return circuit"
   ]
  },
  {
   "cell_type": "code",
   "execution_count": 351,
   "id": "93de41f2",
   "metadata": {},
   "outputs": [
    {
     "name": "stdout",
     "output_type": "stream",
     "text": [
      "[0 0 0 0 0 0] {'000000': 1024}\n",
      "[0 0 0 1 0 1] {'101000': 1024}\n",
      "[0 0 1 0 1 0] {'010100': 1024}\n",
      "[0 1 0 0 1 0] {'010010': 1024}\n",
      "[1 0 0 0 0 1] {'100001': 1024}\n",
      "[0 0 1 1 0 1] {'101100': 1024}\n",
      "[0 1 1 0 0 1] {'100110': 1024}\n",
      "[1 1 0 0 1 0] {'010011': 1024}\n",
      "[1 0 0 1 1 0] {'011001': 1024}\n",
      "[0 1 1 1 0 0] {'001110': 1024}\n",
      "[1 1 1 0 1 0] {'010111': 1024}\n",
      "[1 1 0 1 0 0] {'001011': 1024}\n",
      "[1 0 1 1 1 0] {'011101': 1024}\n",
      "[1 1 1 1 0 1] {'101111': 1024}\n"
     ]
    },
    {
     "data": {
      "text/html": [
       "<pre style=\"word-wrap: normal;white-space: pre;background: #fff0;line-height: 1.1;font-family: &quot;Courier New&quot;,Courier,monospace\">             ┌───┐┌───┐┌───┐┌───┐     ┌───┐ ░ ┌─┐               \n",
       "   q_0: ─────┤ X ├┤ Z ├┤ X ├┤ I ├──■──┤ H ├─░─┤M├───────────────\n",
       "        ┌───┐└─┬─┘└───┘└───┘└───┘┌─┴─┐└───┘ ░ └╥┘┌─┐            \n",
       "   q_1: ┤ H ├──■─────────────────┤ X ├──────░──╫─┤M├────────────\n",
       "        └───┘┌───┐┌───┐┌───┐┌───┐└───┘┌───┐ ░  ║ └╥┘┌─┐         \n",
       "   q_2: ─────┤ X ├┤ Z ├┤ X ├┤ I ├──■──┤ H ├─░──╫──╫─┤M├─────────\n",
       "        ┌───┐└─┬─┘└───┘└───┘└───┘┌─┴─┐└───┘ ░  ║  ║ └╥┘┌─┐      \n",
       "   q_3: ┤ H ├──■─────────────────┤ X ├──────░──╫──╫──╫─┤M├──────\n",
       "        └───┘┌───┐┌───┐┌───┐     ├───┤      ░  ║  ║  ║ └╥┘┌─┐   \n",
       "   q_4: ─────┤ X ├┤ X ├┤ I ├──■──┤ H ├──────░──╫──╫──╫──╫─┤M├───\n",
       "        ┌───┐└─┬─┘└───┘└───┘┌─┴─┐└───┘      ░  ║  ║  ║  ║ └╥┘┌─┐\n",
       "   q_5: ┤ H ├──■────────────┤ X ├───────────░──╫──╫──╫──╫──╫─┤M├\n",
       "        └───┘               └───┘           ░  ║  ║  ║  ║  ║ └╥┘\n",
       "meas: 6/═══════════════════════════════════════╩══╩══╩══╩══╩══╩═\n",
       "                                               0  1  2  3  4  5 </pre>"
      ],
      "text/plain": [
       "             ┌───┐┌───┐┌───┐┌───┐     ┌───┐ ░ ┌─┐               \n",
       "   q_0: ─────┤ X ├┤ Z ├┤ X ├┤ I ├──■──┤ H ├─░─┤M├───────────────\n",
       "        ┌───┐└─┬─┘└───┘└───┘└───┘┌─┴─┐└───┘ ░ └╥┘┌─┐            \n",
       "   q_1: ┤ H ├──■─────────────────┤ X ├──────░──╫─┤M├────────────\n",
       "        └───┘┌───┐┌───┐┌───┐┌───┐└───┘┌───┐ ░  ║ └╥┘┌─┐         \n",
       "   q_2: ─────┤ X ├┤ Z ├┤ X ├┤ I ├──■──┤ H ├─░──╫──╫─┤M├─────────\n",
       "        ┌───┐└─┬─┘└───┘└───┘└───┘┌─┴─┐└───┘ ░  ║  ║ └╥┘┌─┐      \n",
       "   q_3: ┤ H ├──■─────────────────┤ X ├──────░──╫──╫──╫─┤M├──────\n",
       "        └───┘┌───┐┌───┐┌───┐     ├───┤      ░  ║  ║  ║ └╥┘┌─┐   \n",
       "   q_4: ─────┤ X ├┤ X ├┤ I ├──■──┤ H ├──────░──╫──╫──╫──╫─┤M├───\n",
       "        ┌───┐└─┬─┘└───┘└───┘┌─┴─┐└───┘      ░  ║  ║  ║  ║ └╥┘┌─┐\n",
       "   q_5: ┤ H ├──■────────────┤ X ├───────────░──╫──╫──╫──╫──╫─┤M├\n",
       "        └───┘               └───┘           ░  ║  ║  ║  ║  ║ └╥┘\n",
       "meas: 6/═══════════════════════════════════════╩══╩══╩══╩══╩══╩═\n",
       "                                               0  1  2  3  4  5 "
      ]
     },
     "execution_count": 351,
     "metadata": {},
     "output_type": "execute_result"
    }
   ],
   "source": [
    "# alice_bits = np.array([\n",
    "#     [0, 0, 0, 0],\n",
    "#     [0, 0, 0, 1],\n",
    "#     [0, 0, 1, 0],\n",
    "#     [0, 1, 0, 0],\n",
    "#     [1, 0, 0, 0],\n",
    "#     [0, 0, 1, 1],\n",
    "#     [0, 1, 1, 0],\n",
    "#     [1, 1, 0, 0],\n",
    "#     [1, 0, 0, 1],\n",
    "#     [0, 1, 1, 1],\n",
    "#     [1, 1, 1, 0],\n",
    "#     [1, 1, 0, 1],\n",
    "#     [1, 0, 1, 1],\n",
    "#     [1, 1, 1, 1],\n",
    "# ])\n",
    "\n",
    "alice_bits = np.array([\n",
    "    [0, 0, 0, 0, 0, 0],\n",
    "    [0, 0, 0, 1, 0, 1],\n",
    "    [0, 0, 1, 0, 1, 0],\n",
    "    [0, 1, 0, 0, 1, 0],\n",
    "    [1, 0, 0, 0, 0, 1],\n",
    "    [0, 0, 1, 1, 0, 1],\n",
    "    [0, 1, 1, 0, 0, 1],\n",
    "    [1, 1, 0, 0, 1, 0],\n",
    "    [1, 0, 0, 1, 1, 0],\n",
    "    [0, 1, 1, 1, 0, 0],\n",
    "    [1, 1, 1, 0, 1, 0],\n",
    "    [1, 1, 0, 1, 0, 0],\n",
    "    [1, 0, 1, 1, 1, 0],\n",
    "    [1, 1, 1, 1, 0, 1],\n",
    "])\n",
    "\n",
    "for alice in alice_bits:\n",
    "\n",
    "    circuit = QuantumCircuit(6)\n",
    "\n",
    "    callBellPair(circuit, 1, 0)\n",
    "    callBellPair(circuit, 3, 2)\n",
    "    callBellPair(circuit, 5, 4)\n",
    "\n",
    "    circuit = encodeMsg(circuit, 0, alice)\n",
    "\n",
    "    circuit = decodeMsg(circuit, 0, 1)\n",
    "    circuit = decodeMsg(circuit, 2, 3)\n",
    "    circuit = decodeMsg(circuit, 4, 5)\n",
    "    \n",
    "#     circuit = decodeMsg(circuit, 1, 0)\n",
    "#     circuit = decodeMsg(circuit, 3, 2)\n",
    "#     circuit = decodeMsg(circuit, 5, 4)\n",
    "\n",
    "    circuit.measure_all()\n",
    "    \n",
    "    simulator = Aer.get_backend('qasm_simulator')\n",
    "    job = execute(circuit, simulator, shots = 1024)\n",
    "    result = job.result()\n",
    "    counts = result.get_counts()\n",
    "    print(alice, counts)\n",
    "#     plot_histogram(counts)\n",
    "\n",
    "circuit.draw()"
   ]
  },
  {
   "cell_type": "code",
   "execution_count": 309,
   "id": "b0cf6d46",
   "metadata": {},
   "outputs": [
    {
     "name": "stdout",
     "output_type": "stream",
     "text": [
      "{'0101': 1024}\n"
     ]
    },
    {
     "data": {
      "image/png": "[encoded data removed]",
      "text/plain": [
       "<Figure size 504x360 with 1 Axes>"
      ]
     },
     "execution_count": 309,
     "metadata": {},
     "output_type": "execute_result"
    }
   ],
   "source": [
    "simulator = Aer.get_backend('qasm_simulator')\n",
    "job = execute(circuit, simulator, shots = 1024)\n",
    "result = job.result()\n",
    "counts = result.get_counts()\n",
    "print(counts)\n",
    "plot_histogram(counts)"
   ]
  },
  {
   "cell_type": "code",
   "execution_count": 258,
   "id": "dd6e3607",
   "metadata": {},
   "outputs": [
    {
     "name": "stdout",
     "output_type": "stream",
     "text": [
      "Job Status: job has successfully run\n",
      "{'0000': 2, '0001': 16, '0010': 17, '0011': 382, '0101': 6, '0110': 5, '0111': 168, '1000': 3, '1001': 3, '1010': 14, '1011': 188, '1100': 2, '1101': 8, '1110': 10, '1111': 200}\n"
     ]
    },
    {
     "data": {
      "image/png": "[encoded data removed]",
      "text/plain": [
       "<Figure size 504x360 with 1 Axes>"
      ]
     },
     "execution_count": 258,
     "metadata": {},
     "output_type": "execute_result"
    }
   ],
   "source": [
    "IBMQ.load_account()\n",
    "provider = IBMQ.get_provider(hub = 'ibm-q', group = 'open', project = 'main')\n",
    "qcomp = provider.get_backend('ibmq_santiago')\n",
    "shots = 1024\n",
    "job = execute(circuit, backend = qcomp, shots = shots)\n",
    "\n",
    "from qiskit.tools.monitor import job_monitor\n",
    "job_monitor(job)\n",
    "\n",
    "result = job.result()\n",
    "counts = result.get_counts(circuit)\n",
    "\n",
    "print(counts)\n",
    "\n",
    "plot_histogram(counts)"
   ]
  },
  {
   "cell_type": "code",
   "execution_count": 106,
   "id": "9140bdd5",
   "metadata": {},
   "outputs": [
    {
     "name": "stdout",
     "output_type": "stream",
     "text": [
      "Accuracy = 86.23%\n"
     ]
    }
   ],
   "source": [
    "correct_result = counts[message]\n",
    "accuracy = (correct_result/shots)*100\n",
    "print(f\"Accuracy = {accuracy:.2f}%\")"
   ]
  },
  {
   "cell_type": "code",
   "execution_count": null,
   "id": "7898f920",
   "metadata": {},
   "outputs": [],
   "source": []
  }
 ],
 "metadata": {
  "kernelspec": {
   "display_name": "Python 3 (ipykernel)",
   "language": "python",
   "name": "python3"
  },
  "language_info": {
   "codemirror_mode": {
    "name": "ipython",
    "version": 3
   },
   "file_extension": ".py",
   "mimetype": "text/x-python",
   "name": "python",
   "nbconvert_exporter": "python",
   "pygments_lexer": "ipython3",
   "version": "3.8.12"
  }
 },
 "nbformat": 4,
 "nbformat_minor": 5
}
