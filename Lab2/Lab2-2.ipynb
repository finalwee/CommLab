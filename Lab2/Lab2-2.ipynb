{
 "cells": [
  {
   "cell_type": "code",
   "execution_count": 2,
   "id": "1ec710b7",
   "metadata": {},
   "outputs": [
    {
     "name": "stderr",
     "output_type": "stream",
     "text": [
      "configrc.store_credentials:WARNING:2021-10-20 07:19:38,084: Credentials already present. Set overwrite=True to overwrite.\n"
     ]
    }
   ],
   "source": [
    "apitoken = '0ac08bc0e23b22dcff4888822d56241be15b0a64e77e94c42639a524404aafbc7df008ab6043e4706b3b82aa42f03c06464b3c253b92ddf1337e80048cf53be0'\n",
    "IBMQ.save_account(apitoken)"
   ]
  },
  {
   "cell_type": "code",
   "execution_count": 1,
   "id": "470a5a0e",
   "metadata": {},
   "outputs": [],
   "source": [
    "from qiskit import *\n",
    "from qiskit.visualization import plot_histogram, plot_bloch_multivector\n",
    "from numpy.random import randint\n",
    "import numpy as np"
   ]
  },
  {
   "cell_type": "code",
   "execution_count": 9,
   "id": "557172d7",
   "metadata": {},
   "outputs": [],
   "source": [
    "def callBellPair(circuit, h_qubit, x_qubit):\n",
    "    circuit.h(h_qubit)\n",
    "    circuit.cx(h_qubit, x_qubit)\n",
    "    \n",
    "def callInvBellPair(circuit, h_qubit, x_qubit):\n",
    "    circuit.cx(h_qubit, x_qubit)\n",
    "    circuit.h(h_qubit)\n",
    "    \n",
    "def measureSend(circuit, a, b):\n",
    "    circuit.measure(a, 0)\n",
    "    circuit.measure(b, 1)\n",
    "\n",
    "def bobGates(circuit, qubit, cz, cx):\n",
    "    circuit.x(qubit).c_if(cx, 1)\n",
    "    circuit.z(qubit).c_if(cz, 1)"
   ]
  },
  {
   "cell_type": "code",
   "execution_count": 11,
   "id": "df329f06",
   "metadata": {},
   "outputs": [
    {
     "data": {
      "text/html": [
       "<pre style=\"word-wrap: normal;white-space: pre;background: #fff0;line-height: 1.1;font-family: &quot;Courier New&quot;,Courier,monospace\">                  ░      ┌───┐ ░ ┌─┐    ░               \n",
       " q5_0: ───────────░───■──┤ H ├─░─┤M├────░───────────────\n",
       "            ┌───┐ ░ ┌─┴─┐└───┘ ░ └╥┘┌─┐ ░               \n",
       " q5_1: ─────┤ X ├─░─┤ X ├──────░──╫─┤M├─░───────────────\n",
       "       ┌───┐└─┬─┘ ░ └───┘      ░  ║ └╥┘ ░  ┌───┐  ┌───┐ \n",
       " q5_2: ┤ H ├──■───░────────────░──╫──╫──░──┤ X ├──┤ Z ├─\n",
       "       └───┘      ░            ░  ║  ║  ░  └─╥─┘  └─╥─┘ \n",
       "                                  ║  ║       ║   ┌──╨──┐\n",
       " c9: 2/═══════════════════════════╩══╩═══════╬═══╡ = 1 ╞\n",
       "                                  0  1    ┌──╨──┐└─────┘\n",
       "c10: 2/═══════════════════════════════════╡ = 1 ╞═══════\n",
       "                                          └─────┘       </pre>"
      ],
      "text/plain": [
       "                  ░      ┌───┐ ░ ┌─┐    ░               \n",
       " q5_0: ───────────░───■──┤ H ├─░─┤M├────░───────────────\n",
       "            ┌───┐ ░ ┌─┴─┐└───┘ ░ └╥┘┌─┐ ░               \n",
       " q5_1: ─────┤ X ├─░─┤ X ├──────░──╫─┤M├─░───────────────\n",
       "       ┌───┐└─┬─┘ ░ └───┘      ░  ║ └╥┘ ░  ┌───┐  ┌───┐ \n",
       " q5_2: ┤ H ├──■───░────────────░──╫──╫──░──┤ X ├──┤ Z ├─\n",
       "       └───┘      ░            ░  ║  ║  ░  └─╥─┘  └─╥─┘ \n",
       "                                  ║  ║       ║   ┌──╨──┐\n",
       " c9: 2/═══════════════════════════╩══╩═══════╬═══╡ = 1 ╞\n",
       "                                  0  1    ┌──╨──┐└─────┘\n",
       "c10: 2/═══════════════════════════════════╡ = 1 ╞═══════\n",
       "                                          └─────┘       "
      ]
     },
     "execution_count": 11,
     "metadata": {},
     "output_type": "execute_result"
    }
   ],
   "source": [
    "q = QuantumRegister(3)\n",
    "cz = ClassicalRegister(2)\n",
    "cx = ClassicalRegister(2)\n",
    "circuit = QuantumCircuit(q, cz, cx)\n",
    "\n",
    "callBellPair(circuit, 2, 1)\n",
    "circuit.barrier()\n",
    "callInvBellPair(circuit, 0, 1)\n",
    "circuit.barrier()\n",
    "measureSend(circuit, 0, 1)\n",
    "circuit.barrier()\n",
    "bobGates(circuit, 2, cz, cx)\n",
    "\n",
    "circuit.draw()"
   ]
  },
  {
   "cell_type": "code",
   "execution_count": null,
   "id": "5cfad3fb",
   "metadata": {},
   "outputs": [],
   "source": []
  }
 ],
 "metadata": {
  "kernelspec": {
   "display_name": "Python 3 (ipykernel)",
   "language": "python",
   "name": "python3"
  },
  "language_info": {
   "codemirror_mode": {
    "name": "ipython",
    "version": 3
   },
   "file_extension": ".py",
   "mimetype": "text/x-python",
   "name": "python",
   "nbconvert_exporter": "python",
   "pygments_lexer": "ipython3",
   "version": "3.8.12"
  }
 },
 "nbformat": 4,
 "nbformat_minor": 5
}
