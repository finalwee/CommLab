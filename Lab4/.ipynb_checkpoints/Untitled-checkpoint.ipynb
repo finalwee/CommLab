{
 "cells": [
  {
   "cell_type": "code",
   "execution_count": 1,
   "id": "e39c95de",
   "metadata": {},
   "outputs": [],
   "source": [
    "import numpy as np\n",
    "from dahuffman import HuffmanCodec\n",
    "\n",
    "# symbol = {'a', 'b', 'c', 'd', 'e', 'f', 'g', 'h'}\n",
    "# prob = np.array([0.2, 0.05, 0.005, 0.2, 0.3, 0.05, 0.045, 0.15])\n",
    "codec = HuffmanCodec.from_frequencies({'a': 0.2, 'b':0.05, 'c':0.005, 'd': 0.2, 'e':0.3, 'f': 0.05, 'g': 0.045, 'h':0.15})\n",
    "codec.print_code_table()"
   ]
  },
  {
   "cell_type": "code",
   "execution_count": 2,
   "id": "169d29f6",
   "metadata": {},
   "outputs": [
    {
     "name": "stdout",
     "output_type": "stream",
     "text": [
      "Bits Code    Value Symbol\n",
      "   1 0           0 _EOF\n",
      "   3 100         4 'a'\n",
      "   3 101         5 'd'\n",
      "   3 110         6 'e'\n",
      "   4 1110       14 'h'\n",
      "   5 11110      30 'f'\n",
      "   7 1111100   124 'c'\n",
      "   7 1111101   125 'g'\n",
      "   6 111111     63 'b'\n"
     ]
    }
   ],
   "source": []
  },
  {
   "cell_type": "code",
   "execution_count": null,
   "id": "61242a31",
   "metadata": {},
   "outputs": [],
   "source": []
  }
 ],
 "metadata": {
  "kernelspec": {
   "display_name": "Python 3 (ipykernel)",
   "language": "python",
   "name": "python3"
  },
  "language_info": {
   "codemirror_mode": {
    "name": "ipython",
    "version": 3
   },
   "file_extension": ".py",
   "mimetype": "text/x-python",
   "name": "python",
   "nbconvert_exporter": "python",
   "pygments_lexer": "ipython3",
   "version": "3.8.12"
  }
 },
 "nbformat": 4,
 "nbformat_minor": 5
}
