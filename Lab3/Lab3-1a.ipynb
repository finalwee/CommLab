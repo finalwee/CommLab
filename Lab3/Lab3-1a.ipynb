{
 "cells": [
  {
   "cell_type": "code",
   "execution_count": 1,
   "id": "19bd97f5",
   "metadata": {},
   "outputs": [],
   "source": [
    "import numpy as np\n",
    "from qiskit import *\n",
    "from qiskit.visualization import plot_histogram, plot_bloch_multivector"
   ]
  },
  {
   "cell_type": "code",
   "execution_count": 31,
   "id": "8df9d993",
   "metadata": {},
   "outputs": [],
   "source": [
    "def UfGate(case, n, bit_string):\n",
    "    circuit = QuantumCircuit(n+1, n+1)\n",
    "    for qubit in range(len(bit_string)):\n",
    "        if bit_string[qubit] == '1':\n",
    "            circuit.x(qubit)\n",
    "    \n",
    "    circuit.barrier()\n",
    "    \n",
    "    if case == 2:\n",
    "            circuit.x(n)\n",
    "    if case == 3:\n",
    "        for qubit in range(n):\n",
    "            circuit.cx(qubit, n)\n",
    "        \n",
    "    circuit.barrier()\n",
    "    \n",
    "    for i in range(n+1):\n",
    "        circuit.measure(i, i)\n",
    "    return circuit"
   ]
  },
  {
   "cell_type": "code",
   "execution_count": 32,
   "id": "5f534525",
   "metadata": {},
   "outputs": [
    {
     "data": {
      "text/html": [
       "<pre style=\"word-wrap: normal;white-space: pre;background: #fff0;line-height: 1.1;font-family: &quot;Courier New&quot;,Courier,monospace\">     ┌───┐ ░                      ░ ┌─┐            \n",
       "q_0: ┤ X ├─░───■──────────────────░─┤M├────────────\n",
       "     ├───┤ ░   │                  ░ └╥┘┌─┐         \n",
       "q_1: ┤ X ├─░───┼────■─────────────░──╫─┤M├─────────\n",
       "     ├───┤ ░   │    │             ░  ║ └╥┘┌─┐      \n",
       "q_2: ┤ X ├─░───┼────┼────■────────░──╫──╫─┤M├──────\n",
       "     ├───┤ ░   │    │    │        ░  ║  ║ └╥┘┌─┐   \n",
       "q_3: ┤ X ├─░───┼────┼────┼────■───░──╫──╫──╫─┤M├───\n",
       "     └───┘ ░ ┌─┴─┐┌─┴─┐┌─┴─┐┌─┴─┐ ░  ║  ║  ║ └╥┘┌─┐\n",
       "q_4: ──────░─┤ X ├┤ X ├┤ X ├┤ X ├─░──╫──╫──╫──╫─┤M├\n",
       "           ░ └───┘└───┘└───┘└───┘ ░  ║  ║  ║  ║ └╥┘\n",
       "c: 5/════════════════════════════════╩══╩══╩══╩══╩═\n",
       "                                     0  1  2  3  4 </pre>"
      ],
      "text/plain": [
       "     ┌───┐ ░                      ░ ┌─┐            \n",
       "q_0: ┤ X ├─░───■──────────────────░─┤M├────────────\n",
       "     ├───┤ ░   │                  ░ └╥┘┌─┐         \n",
       "q_1: ┤ X ├─░───┼────■─────────────░──╫─┤M├─────────\n",
       "     ├───┤ ░   │    │             ░  ║ └╥┘┌─┐      \n",
       "q_2: ┤ X ├─░───┼────┼────■────────░──╫──╫─┤M├──────\n",
       "     ├───┤ ░   │    │    │        ░  ║  ║ └╥┘┌─┐   \n",
       "q_3: ┤ X ├─░───┼────┼────┼────■───░──╫──╫──╫─┤M├───\n",
       "     └───┘ ░ ┌─┴─┐┌─┴─┐┌─┴─┐┌─┴─┐ ░  ║  ║  ║ └╥┘┌─┐\n",
       "q_4: ──────░─┤ X ├┤ X ├┤ X ├┤ X ├─░──╫──╫──╫──╫─┤M├\n",
       "           ░ └───┘└───┘└───┘└───┘ ░  ║  ║  ║  ║ └╥┘\n",
       "c: 5/════════════════════════════════╩══╩══╩══╩══╩═\n",
       "                                     0  1  2  3  4 "
      ]
     },
     "execution_count": 32,
     "metadata": {},
     "output_type": "execute_result"
    }
   ],
   "source": [
    "n = 4\n",
    "\n",
    "bit_string = [f'{x:04b}0' for x in range(16)]\n",
    "\n",
    "case_result = [{} for i in range(3)]\n",
    "\n",
    "shots = 1024\n",
    "\n",
    "for case in range(3):\n",
    "    for bit in bit_string:\n",
    "        dj_circuit = UfGate(case+1, n, bit)\n",
    "        \n",
    "        simulator = Aer.get_backend('qasm_simulator')\n",
    "        job = execute(dj_circuit, simulator, shots = shots)\n",
    "\n",
    "        result = job.result()\n",
    "        counts = result.get_counts()\n",
    "        \n",
    "        result = job.result()\n",
    "        counts = result.get_counts()\n",
    "        case_result[case][bit] = max(counts, key = counts.get)\n",
    "dj_circuit.draw()"
   ]
  },
  {
   "cell_type": "code",
   "execution_count": 33,
   "id": "e536daad",
   "metadata": {},
   "outputs": [
    {
     "name": "stdout",
     "output_type": "stream",
     "text": [
      "circuit 1\n",
      "Input bit     : 00000 00010 00100 00110 01000 01010 01100 01110 10000 10010 10100 10110 11000 11010 11100 11110 \n",
      "Measure result: 00000 01000 00100 01100 00010 01010 00110 01110 00001 01001 00101 01101 00011 01011 00111 01111 \n",
      "\n",
      "circuit 2\n",
      "Input bit     : 00000 00010 00100 00110 01000 01010 01100 01110 10000 10010 10100 10110 11000 11010 11100 11110 \n",
      "Measure result: 10000 11000 10100 11100 10010 11010 10110 11110 10001 11001 10101 11101 10011 11011 10111 11111 \n",
      "\n",
      "circuit 3\n",
      "Input bit     : 00000 00010 00100 00110 01000 01010 01100 01110 10000 10010 10100 10110 11000 11010 11100 11110 \n",
      "Measure result: 00000 11000 10100 01100 10010 01010 00110 11110 10001 01001 00101 11101 00011 11011 10111 01111 \n",
      "\n"
     ]
    }
   ],
   "source": [
    "for case_idx in range(len(case_result)):\n",
    "    print(f'circuit {case_idx + 1}')\n",
    "    print('Input bit     :', end=' ')\n",
    "    for name,value in case_result[case_idx].items():\n",
    "        print(name, end =' ')\n",
    "    print()\n",
    "    print('Measure result:', end=' ')\n",
    "    for name,value in case_result[case_idx].items():\n",
    "        print(value, end =' ')\n",
    "    print('\\n')"
   ]
  },
  {
   "cell_type": "code",
   "execution_count": null,
   "id": "7cbe092d",
   "metadata": {},
   "outputs": [],
   "source": []
  }
 ],
 "metadata": {
  "kernelspec": {
   "display_name": "Python 3 (ipykernel)",
   "language": "python",
   "name": "python3"
  },
  "language_info": {
   "codemirror_mode": {
    "name": "ipython",
    "version": 3
   },
   "file_extension": ".py",
   "mimetype": "text/x-python",
   "name": "python",
   "nbconvert_exporter": "python",
   "pygments_lexer": "ipython3",
   "version": "3.8.12"
  }
 },
 "nbformat": 4,
 "nbformat_minor": 5
}
