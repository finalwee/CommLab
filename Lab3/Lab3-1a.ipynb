{
 "cells": [
  {
   "cell_type": "code",
   "execution_count": 1,
   "source": [
    "import numpy as np\r\n",
    "from qiskit import *\r\n",
    "from qiskit.visualization import plot_histogram, plot_bloch_multivector"
   ],
   "outputs": [],
   "metadata": {}
  },
  {
   "cell_type": "code",
   "execution_count": 31,
   "source": [
    "def UfGate(case, n, bit_string):\r\n",
    "    circuit = QuantumCircuit(n+1, n+1)\r\n",
    "    for qubit in range(len(bit_string)):\r\n",
    "        if bit_string[qubit] == '1':\r\n",
    "            circuit.x(qubit)\r\n",
    "    \r\n",
    "    circuit.barrier()\r\n",
    "    \r\n",
    "    if case == 2:\r\n",
    "            circuit.x(n)\r\n",
    "    if case == 3:\r\n",
    "        for qubit in range(n):\r\n",
    "            circuit.cx(qubit, n)\r\n",
    "        \r\n",
    "    circuit.barrier()\r\n",
    "    \r\n",
    "    for i in range(n+1):\r\n",
    "        circuit.measure(i, i)\r\n",
    "    return circuit"
   ],
   "outputs": [],
   "metadata": {}
  },
  {
   "cell_type": "code",
   "execution_count": 32,
   "source": [
    "n = 4\r\n",
    "\r\n",
    "bit_string = [f'{x:04b}0' for x in range(16)]\r\n",
    "\r\n",
    "case_result = [{} for i in range(3)]\r\n",
    "\r\n",
    "shots = 1024\r\n",
    "\r\n",
    "for case in range(3):\r\n",
    "    for bit in bit_string:\r\n",
    "        dj_circuit = UfGate(case+1, n, bit)\r\n",
    "        \r\n",
    "        simulator = Aer.get_backend('qasm_simulator')\r\n",
    "        job = execute(dj_circuit, simulator, shots = shots)\r\n",
    "\r\n",
    "        # result = job.result()\r\n",
    "        # counts = result.get_counts()\r\n",
    "        \r\n",
    "        result = job.result()\r\n",
    "        counts = result.get_counts()\r\n",
    "        case_result[case][bit] = max(counts, key = counts.get)\r\n",
    "dj_circuit.draw()"
   ],
   "outputs": [
    {
     "output_type": "execute_result",
     "data": {
      "text/html": [
       "<pre style=\"word-wrap: normal;white-space: pre;background: #fff0;line-height: 1.1;font-family: &quot;Courier New&quot;,Courier,monospace\">     ┌───┐ ░                      ░ ┌─┐            \n",
       "q_0: ┤ X ├─░───■──────────────────░─┤M├────────────\n",
       "     ├───┤ ░   │                  ░ └╥┘┌─┐         \n",
       "q_1: ┤ X ├─░───┼────■─────────────░──╫─┤M├─────────\n",
       "     ├───┤ ░   │    │             ░  ║ └╥┘┌─┐      \n",
       "q_2: ┤ X ├─░───┼────┼────■────────░──╫──╫─┤M├──────\n",
       "     ├───┤ ░   │    │    │        ░  ║  ║ └╥┘┌─┐   \n",
       "q_3: ┤ X ├─░───┼────┼────┼────■───░──╫──╫──╫─┤M├───\n",
       "     └───┘ ░ ┌─┴─┐┌─┴─┐┌─┴─┐┌─┴─┐ ░  ║  ║  ║ └╥┘┌─┐\n",
       "q_4: ──────░─┤ X ├┤ X ├┤ X ├┤ X ├─░──╫──╫──╫──╫─┤M├\n",
       "           ░ └───┘└───┘└───┘└───┘ ░  ║  ║  ║  ║ └╥┘\n",
       "c: 5/════════════════════════════════╩══╩══╩══╩══╩═\n",
       "                                     0  1  2  3  4 </pre>"
      ],
      "text/plain": [
       "     ┌───┐ ░                      ░ ┌─┐            \n",
       "q_0: ┤ X ├─░───■──────────────────░─┤M├────────────\n",
       "     ├───┤ ░   │                  ░ └╥┘┌─┐         \n",
       "q_1: ┤ X ├─░───┼────■─────────────░──╫─┤M├─────────\n",
       "     ├───┤ ░   │    │             ░  ║ └╥┘┌─┐      \n",
       "q_2: ┤ X ├─░───┼────┼────■────────░──╫──╫─┤M├──────\n",
       "     ├───┤ ░   │    │    │        ░  ║  ║ └╥┘┌─┐   \n",
       "q_3: ┤ X ├─░───┼────┼────┼────■───░──╫──╫──╫─┤M├───\n",
       "     └───┘ ░ ┌─┴─┐┌─┴─┐┌─┴─┐┌─┴─┐ ░  ║  ║  ║ └╥┘┌─┐\n",
       "q_4: ──────░─┤ X ├┤ X ├┤ X ├┤ X ├─░──╫──╫──╫──╫─┤M├\n",
       "           ░ └───┘└───┘└───┘└───┘ ░  ║  ║  ║  ║ └╥┘\n",
       "c: 5/════════════════════════════════╩══╩══╩══╩══╩═\n",
       "                                     0  1  2  3  4 "
      ]
     },
     "metadata": {},
     "execution_count": 32
    }
   ],
   "metadata": {}
  },
  {
   "cell_type": "code",
   "execution_count": 33,
   "source": [
    "for case_idx in range(len(case_result)):\r\n",
    "    print(f'circuit {case_idx + 1}')\r\n",
    "    print('Input bit     :', end=' ')\r\n",
    "    for name,value in case_result[case_idx].items():\r\n",
    "        print(name, end =' ')\r\n",
    "    print()\r\n",
    "    print('Measure result:', end=' ')\r\n",
    "    for name,value in case_result[case_idx].items():\r\n",
    "        print(value, end =' ')\r\n",
    "    print('\\n')"
   ],
   "outputs": [
    {
     "output_type": "stream",
     "name": "stdout",
     "text": [
      "circuit 1\n",
      "Input bit     : 00000 00010 00100 00110 01000 01010 01100 01110 10000 10010 10100 10110 11000 11010 11100 11110 \n",
      "Measure result: 00000 01000 00100 01100 00010 01010 00110 01110 00001 01001 00101 01101 00011 01011 00111 01111 \n",
      "\n",
      "circuit 2\n",
      "Input bit     : 00000 00010 00100 00110 01000 01010 01100 01110 10000 10010 10100 10110 11000 11010 11100 11110 \n",
      "Measure result: 10000 11000 10100 11100 10010 11010 10110 11110 10001 11001 10101 11101 10011 11011 10111 11111 \n",
      "\n",
      "circuit 3\n",
      "Input bit     : 00000 00010 00100 00110 01000 01010 01100 01110 10000 10010 10100 10110 11000 11010 11100 11110 \n",
      "Measure result: 00000 11000 10100 01100 10010 01010 00110 11110 10001 01001 00101 11101 00011 11011 10111 01111 \n",
      "\n"
     ]
    }
   ],
   "metadata": {}
  },
  {
   "cell_type": "code",
   "execution_count": null,
   "source": [],
   "outputs": [],
   "metadata": {}
  }
 ],
 "metadata": {
  "kernelspec": {
   "display_name": "Python 3 (ipykernel)",
   "language": "python",
   "name": "python3"
  },
  "language_info": {
   "codemirror_mode": {
    "name": "ipython",
    "version": 3
   },
   "file_extension": ".py",
   "mimetype": "text/x-python",
   "name": "python",
   "nbconvert_exporter": "python",
   "pygments_lexer": "ipython3",
   "version": "3.8.12"
  }
 },
 "nbformat": 4,
 "nbformat_minor": 5
}