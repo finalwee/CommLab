{
 "cells": [
  {
   "cell_type": "code",
   "execution_count": 1,
   "id": "458244e3",
   "metadata": {},
   "outputs": [],
   "source": [
    "import numpy as np\n",
    "from qiskit import *\n",
    "from qiskit.visualization import plot_histogram, plot_bloch_multivector\n",
    "\n",
    "# apitoken = '0ac08bc0e23b22dcff4888822d56241be15b0a64e77e94c42639a524404aafbc7df008ab6043e4706b3b82aa42f03c06464b3c253b92ddf1337e80048cf53be0'\n",
    "# IBMQ.save_account(apitoken, overwrite = True)"
   ]
  },
  {
   "cell_type": "code",
   "execution_count": 4,
   "id": "6377c8d6",
   "metadata": {},
   "outputs": [],
   "source": [
    "def circuit_p3(case, n):\n",
    "    qc = QuantumCircuit(n)\n",
    "    \n",
    "    for qubit in range(n):\n",
    "        qc.h(qubit)\n",
    "    \n",
    "    if case == 1:\n",
    "        qc.rz(np.pi, 0)\n",
    "    \n",
    "    elif case == 2:\n",
    "        qc.rz(np.pi/2, 0)\n",
    "        qc.ry(np.pi, 1)\n",
    "    \n",
    "    elif case == 3:\n",
    "        qc.rz(np.pi/4, 0)\n",
    "        qc.rz(np.pi/2, 1)\n",
    "        qc.ry(np.pi, 2)\n",
    "    \n",
    "    return qc\n",
    "    \n",
    "def qft(n):\n",
    "\"\"\"n-qubit QFT the first n qubits in circuit\"\"\"\n",
    "    qc = QuantumCircuit(n)\n",
    "    # Don't forget the Swaps!\n",
    "    for qubit in range(n//2):\n",
    "        qc.swap(qubit, n-qubit-1)\n",
    "    for j in range(n):\n",
    "        for m in range(j):\n",
    "            qc.cu1(np.pi/float(2**(j-m)), m, j)\n",
    "        qc.h(j)\n",
    "        \n",
    "    qc.name = \"QFT\"\n",
    "    return qc\n",
    "\n",
    "def qft_dagger(n):\n",
    "\"\"\"n-qubit QFTdagger the first n qubits in circuit\"\"\"\n",
    "    qc = QuantumCircuit(n)\n",
    "    # Don't forget the Swaps!\n",
    "    for qubit in range(n//2):\n",
    "        qc.swap(qubit, n-qubit-1)\n",
    "    for j in range(n):\n",
    "        for m in range(j):\n",
    "            qc.cu1(-np.pi/float(2**(j-m)), m, j)\n",
    "        qc.h(j)\n",
    "        \n",
    "    qc.name = \"QFT\"\n",
    "    return qc\n"
   ]
  },
  {
   "cell_type": "code",
   "execution_count": 18,
   "id": "230d1bfe",
   "metadata": {},
   "outputs": [
    {
     "data": {
      "text/html": [
       "<pre style=\"word-wrap: normal;white-space: pre;background: #fff0;line-height: 1.1;font-family: &quot;Courier New&quot;,Courier,monospace\">        ┌───┐┌─────────┐ ░ ┌─┐         \n",
       "   q_0: ┤ H ├┤ Rz(π/4) ├─░─┤M├─────────\n",
       "        ├───┤├─────────┤ ░ └╥┘┌─┐      \n",
       "   q_1: ┤ H ├┤ Rz(π/2) ├─░──╫─┤M├──────\n",
       "        ├───┤└┬───────┬┘ ░  ║ └╥┘┌─┐   \n",
       "   q_2: ┤ H ├─┤ Ry(π) ├──░──╫──╫─┤M├───\n",
       "        ├───┤ └───────┘  ░  ║  ║ └╥┘┌─┐\n",
       "   q_3: ┤ H ├────────────░──╫──╫──╫─┤M├\n",
       "        └───┘            ░  ║  ║  ║ └╥┘\n",
       "meas: 4/════════════════════╩══╩══╩══╩═\n",
       "                            0  1  2  3 </pre>"
      ],
      "text/plain": [
       "        ┌───┐┌─────────┐ ░ ┌─┐         \n",
       "   q_0: ┤ H ├┤ Rz(π/4) ├─░─┤M├─────────\n",
       "        ├───┤├─────────┤ ░ └╥┘┌─┐      \n",
       "   q_1: ┤ H ├┤ Rz(π/2) ├─░──╫─┤M├──────\n",
       "        ├───┤└┬───────┬┘ ░  ║ └╥┘┌─┐   \n",
       "   q_2: ┤ H ├─┤ Ry(π) ├──░──╫──╫─┤M├───\n",
       "        ├───┤ └───────┘  ░  ║  ║ └╥┘┌─┐\n",
       "   q_3: ┤ H ├────────────░──╫──╫──╫─┤M├\n",
       "        └───┘            ░  ║  ║  ║ └╥┘\n",
       "meas: 4/════════════════════╩══╩══╩══╩═\n",
       "                            0  1  2  3 "
      ]
     },
     "execution_count": 18,
     "metadata": {},
     "output_type": "execute_result"
    }
   ],
   "source": [
    "circuit = circuit_p3(1, 4)\n",
    "circuit\n",
    "circuit.measure_all()\n",
    "circuit.draw()\n"
   ]
  },
  {
   "cell_type": "code",
   "execution_count": 19,
   "id": "160340d7",
   "metadata": {},
   "outputs": [
    {
     "name": "stdout",
     "output_type": "stream",
     "text": [
      "{'0001': 117, '1001': 138, '0101': 130, '0110': 143, '1011': 121, '1100': 144, '1000': 124, '0000': 132, '1111': 127, '0100': 122, '1010': 125, '1101': 139, '0010': 119, '0011': 125, '1110': 120, '0111': 122}\n"
     ]
    },
    {
     "data": {
      "image/png": "[encoded data removed]",
      "text/plain": [
       "<Figure size 504x360 with 1 Axes>"
      ]
     },
     "execution_count": 19,
     "metadata": {},
     "output_type": "execute_result"
    }
   ],
   "source": [
    "simulator = Aer.get_backend('qasm_simulator')\n",
    "job = execute(circuit, simulator, shots = 2048)\n",
    "result = job.result()\n",
    "counts = result.get_counts()\n",
    "print(counts)\n",
    "plot_histogram(counts)"
   ]
  },
  {
   "cell_type": "code",
   "execution_count": null,
   "id": "a679fd7e",
   "metadata": {},
   "outputs": [],
   "source": []
  }
 ],
 "metadata": {
  "kernelspec": {
   "display_name": "Python 3 (ipykernel)",
   "language": "python",
   "name": "python3"
  },
  "language_info": {
   "codemirror_mode": {
    "name": "ipython",
    "version": 3
   },
   "file_extension": ".py",
   "mimetype": "text/x-python",
   "name": "python",
   "nbconvert_exporter": "python",
   "pygments_lexer": "ipython3",
   "version": "3.8.12"
  }
 },
 "nbformat": 4,
 "nbformat_minor": 5
}
