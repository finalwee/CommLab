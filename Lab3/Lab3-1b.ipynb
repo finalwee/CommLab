{
 "cells": [
  {
   "cell_type": "code",
   "execution_count": 224,
   "id": "5749a0f7",
   "metadata": {},
   "outputs": [],
   "source": [
    "import numpy as np\n",
    "from qiskit import *\n",
    "from qiskit.visualization import plot_histogram, plot_bloch_multivector"
   ]
  },
  {
   "cell_type": "code",
   "execution_count": 225,
   "id": "f0d9d006",
   "metadata": {},
   "outputs": [],
   "source": [
    "def dj(case, n, bit_string):\n",
    "    circuit = QuantumCircuit(n+1, n)\n",
    "    \n",
    "    for qubit in range(n):\n",
    "            circuit.h(qubit)\n",
    "    \n",
    "    circuit.x(n)\n",
    "    circuit.h(n)\n",
    "    \n",
    "    for qubit in range(len(bit_string)):\n",
    "        if bit_string[qubit] == '1':\n",
    "            circuit.x(qubit)\n",
    "    \n",
    "    circuit.barrier()\n",
    "    \n",
    "    if case == 1 or case == 2:\n",
    "        if case == 2:\n",
    "            circuit.x(n)\n",
    "    if case == 3:\n",
    "        for qubit in range(n):\n",
    "            circuit.cx(qubit, n)\n",
    "        \n",
    "        circuit.barrier()\n",
    "        \n",
    "#         for qubit in range(len(bit_string)):\n",
    "#                 if bit_string[qubit] == '1':\n",
    "#                     circuit.x(qubit)\n",
    "    \n",
    "    for qubit in range(n):\n",
    "            circuit.h(qubit)\n",
    "    \n",
    "    circuit.barrier()\n",
    "    \n",
    "    for i in range(n):\n",
    "        circuit.measure(i, i)\n",
    "        \n",
    "    return circuit"
   ]
  },
  {
   "cell_type": "code",
   "execution_count": 226,
   "id": "c5c613e5",
   "metadata": {},
   "outputs": [
    {
     "data": {
      "text/html": [
       "<pre style=\"word-wrap: normal;white-space: pre;background: #fff0;line-height: 1.1;font-family: &quot;Courier New&quot;,Courier,monospace\">     ┌───┐┌───┐ ░                      ░ ┌───┐ ░ ┌─┐         \n",
       "q_0: ┤ H ├┤ X ├─░───■──────────────────░─┤ H ├─░─┤M├─────────\n",
       "     ├───┤├───┤ ░   │                  ░ ├───┤ ░ └╥┘┌─┐      \n",
       "q_1: ┤ H ├┤ X ├─░───┼────■─────────────░─┤ H ├─░──╫─┤M├──────\n",
       "     ├───┤├───┤ ░   │    │             ░ ├───┤ ░  ║ └╥┘┌─┐   \n",
       "q_2: ┤ H ├┤ X ├─░───┼────┼────■────────░─┤ H ├─░──╫──╫─┤M├───\n",
       "     ├───┤├───┤ ░   │    │    │        ░ ├───┤ ░  ║  ║ └╥┘┌─┐\n",
       "q_3: ┤ H ├┤ X ├─░───┼────┼────┼────■───░─┤ H ├─░──╫──╫──╫─┤M├\n",
       "     ├───┤├───┤ ░ ┌─┴─┐┌─┴─┐┌─┴─┐┌─┴─┐ ░ └───┘ ░  ║  ║  ║ └╥┘\n",
       "q_4: ┤ X ├┤ H ├─░─┤ X ├┤ X ├┤ X ├┤ X ├─░───────░──╫──╫──╫──╫─\n",
       "     └───┘└───┘ ░ └───┘└───┘└───┘└───┘ ░       ░  ║  ║  ║  ║ \n",
       "c: 4/═════════════════════════════════════════════╩══╩══╩══╩═\n",
       "                                                  0  1  2  3 </pre>"
      ],
      "text/plain": [
       "     ┌───┐┌───┐ ░                      ░ ┌───┐ ░ ┌─┐         \n",
       "q_0: ┤ H ├┤ X ├─░───■──────────────────░─┤ H ├─░─┤M├─────────\n",
       "     ├───┤├───┤ ░   │                  ░ ├───┤ ░ └╥┘┌─┐      \n",
       "q_1: ┤ H ├┤ X ├─░───┼────■─────────────░─┤ H ├─░──╫─┤M├──────\n",
       "     ├───┤├───┤ ░   │    │             ░ ├───┤ ░  ║ └╥┘┌─┐   \n",
       "q_2: ┤ H ├┤ X ├─░───┼────┼────■────────░─┤ H ├─░──╫──╫─┤M├───\n",
       "     ├───┤├───┤ ░   │    │    │        ░ ├───┤ ░  ║  ║ └╥┘┌─┐\n",
       "q_3: ┤ H ├┤ X ├─░───┼────┼────┼────■───░─┤ H ├─░──╫──╫──╫─┤M├\n",
       "     ├───┤├───┤ ░ ┌─┴─┐┌─┴─┐┌─┴─┐┌─┴─┐ ░ └───┘ ░  ║  ║  ║ └╥┘\n",
       "q_4: ┤ X ├┤ H ├─░─┤ X ├┤ X ├┤ X ├┤ X ├─░───────░──╫──╫──╫──╫─\n",
       "     └───┘└───┘ ░ └───┘└───┘└───┘└───┘ ░       ░  ║  ║  ║  ║ \n",
       "c: 4/═════════════════════════════════════════════╩══╩══╩══╩═\n",
       "                                                  0  1  2  3 "
      ]
     },
     "execution_count": 226,
     "metadata": {},
     "output_type": "execute_result"
    }
   ],
   "source": [
    "n = 4\n",
    "\n",
    "bit_string = [f'{x:04b}' for x in range(16)]\n",
    "\n",
    "case_result = [{} for i in range(3)]\n",
    "\n",
    "# dj_circuit = dj(3, n, '1011')\n",
    "# dj_circuit.draw()\n",
    "\n",
    "shots = 1024\n",
    "\n",
    "for case in range(3):\n",
    "    for bit in bit_string:\n",
    "        dj_circuit = dj(case+1, n, bit)\n",
    "        \n",
    "        simulator = Aer.get_backend('qasm_simulator')\n",
    "        job = execute(dj_circuit, simulator, shots = shots)\n",
    "\n",
    "        result = job.result()\n",
    "        counts = result.get_counts()\n",
    "        \n",
    "        result = job.result()\n",
    "        counts = result.get_counts()\n",
    "        case_result[case][bit] = max(counts, key = counts.get)\n",
    "dj_circuit.draw()"
   ]
  },
  {
   "cell_type": "code",
   "execution_count": 227,
   "id": "380340b0",
   "metadata": {},
   "outputs": [
    {
     "name": "stdout",
     "output_type": "stream",
     "text": [
      "circuit 1\n",
      "Input bit     : 0000 0001 0010 0011 0100 0101 0110 0111 1000 1001 1010 1011 1100 1101 1110 1111 \n",
      "Measure result: 0000 0000 0000 0000 0000 0000 0000 0000 0000 0000 0000 0000 0000 0000 0000 0000 \n",
      "\n",
      "circuit 2\n",
      "Input bit     : 0000 0001 0010 0011 0100 0101 0110 0111 1000 1001 1010 1011 1100 1101 1110 1111 \n",
      "Measure result: 0000 0000 0000 0000 0000 0000 0000 0000 0000 0000 0000 0000 0000 0000 0000 0000 \n",
      "\n",
      "circuit 3\n",
      "Input bit     : 0000 0001 0010 0011 0100 0101 0110 0111 1000 1001 1010 1011 1100 1101 1110 1111 \n",
      "Measure result: 1111 1111 1111 1111 1111 1111 1111 1111 1111 1111 1111 1111 1111 1111 1111 1111 \n",
      "\n"
     ]
    }
   ],
   "source": [
    "for case_idx in range(len(case_result)):\n",
    "    print(f'circuit {case_idx + 1}')\n",
    "    print('Input bit     :', end=' ')\n",
    "    for name,value in case_result[case_idx].items():\n",
    "        print(name, end =' ')\n",
    "    print()\n",
    "    print('Measure result:', end=' ')\n",
    "    for name,value in case_result[case_idx].items():\n",
    "        print(value, end =' ')\n",
    "    print('\\n')"
   ]
  },
  {
   "cell_type": "code",
   "execution_count": null,
   "id": "77af6842",
   "metadata": {},
   "outputs": [],
   "source": []
  }
 ],
 "metadata": {
  "kernelspec": {
   "display_name": "Python 3 (ipykernel)",
   "language": "python",
   "name": "python3"
  },
  "language_info": {
   "codemirror_mode": {
    "name": "ipython",
    "version": 3
   },
   "file_extension": ".py",
   "mimetype": "text/x-python",
   "name": "python",
   "nbconvert_exporter": "python",
   "pygments_lexer": "ipython3",
   "version": "3.8.12"
  }
 },
 "nbformat": 4,
 "nbformat_minor": 5
}
