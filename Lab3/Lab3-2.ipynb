{
 "cells": [
  {
   "cell_type": "code",
   "execution_count": 181,
   "id": "74f278eb",
   "metadata": {},
   "outputs": [],
   "source": [
    "import numpy as np\n",
    "from qiskit import *\n",
    "from qiskit.visualization import plot_histogram, plot_bloch_multivector\n",
    "\n",
    "apitoken = '0ac08bc0e23b22dcff4888822d56241be15b0a64e77e94c42639a524404aafbc7df008ab6043e4706b3b82aa42f03c06464b3c253b92ddf1337e80048cf53be0'\n",
    "IBMQ.save_account(apitoken, overwrite = True)"
   ]
  },
  {
   "cell_type": "code",
   "execution_count": 192,
   "id": "d777b1fc",
   "metadata": {},
   "outputs": [],
   "source": [
    "def init_s(circuit, qubits):\n",
    "    for qubit in qubits:\n",
    "        circuit.h(qubit)\n",
    "    \n",
    "    return circuit\n",
    "\n",
    "def Uf(circuit, n):\n",
    "    \n",
    "#     circuit.x(1)\n",
    "#     circuit.x(2)\n",
    "\n",
    "    circuit.barrier()\n",
    "\n",
    "    circuit.x(0)\n",
    "    circuit.mct(list(range(n)), n)\n",
    "    circuit.x(0)\n",
    "\n",
    "    circuit.barrier()\n",
    "\n",
    "#     for i in range(n):\n",
    "#         circuit.h(i)\n",
    "        \n",
    "    return circuit\n",
    "\n",
    "def ThreeQbitFlip_2e(circuit):\n",
    "    circuit.cz(0,2)\n",
    "    circuit.cz(1,2)\n",
    "    \n",
    "    return circuit\n",
    "\n",
    "def ThreeQbitFlip_2f(circuit):\n",
    "    circuit.cz(0,2)\n",
    "    circuit.cz(1,2)\n",
    "    circuit.cz(1,0)\n",
    "    \n",
    "    return circuit\n",
    "\n",
    "def inverseMean(circuit, qubits):\n",
    "    for qubit in range(qubits):\n",
    "        circuit.h(qubit)\n",
    "    \n",
    "    circuit.barrier()\n",
    "    \n",
    "    for qubit in range(qubits):\n",
    "        circuit.x(qubit)\n",
    "    \n",
    "    circuit.barrier()\n",
    "    \n",
    "    circuit.h(qubits-1)\n",
    "    circuit.mct(list(range(n-1)), n-1)\n",
    "    circuit.h(qubits-1)\n",
    "    \n",
    "    circuit.barrier()\n",
    "    \n",
    "    for qubit in range(qubits):\n",
    "        circuit.x(qubit)\n",
    "    \n",
    "    circuit.barrier()\n",
    "    \n",
    "    for qubit in range(qubits):\n",
    "        circuit.h(qubit)\n",
    "    \n",
    "    return circuit\n",
    "    "
   ]
  },
  {
   "cell_type": "code",
   "execution_count": 200,
   "id": "2cda41b1",
   "metadata": {},
   "outputs": [
    {
     "data": {
      "text/html": [
       "<pre style=\"word-wrap: normal;white-space: pre;background: #fff0;line-height: 1.1;font-family: &quot;Courier New&quot;,Courier,monospace\">     ┌───┐          ░ ┌───┐ ░ ┌───┐ ░                 ░ ┌───┐ ░ ┌───┐┌─┐      \n",
       "q_0: ┤ H ├─■─────■──░─┤ H ├─░─┤ X ├─░────────■────────░─┤ X ├─░─┤ H ├┤M├──────\n",
       "     ├───┤ │     │  ░ ├───┤ ░ ├───┤ ░        │        ░ ├───┤ ░ ├───┤└╥┘┌─┐   \n",
       "q_1: ┤ H ├─┼──■──■──░─┤ H ├─░─┤ X ├─░────────■────────░─┤ X ├─░─┤ H ├─╫─┤M├───\n",
       "     ├───┤ │  │     ░ ├───┤ ░ ├───┤ ░ ┌───┐┌─┴─┐┌───┐ ░ ├───┤ ░ ├───┤ ║ └╥┘┌─┐\n",
       "q_2: ┤ H ├─■──■─────░─┤ H ├─░─┤ X ├─░─┤ H ├┤ X ├┤ H ├─░─┤ X ├─░─┤ H ├─╫──╫─┤M├\n",
       "     └───┘          ░ └───┘ ░ └───┘ ░ └───┘└───┘└───┘ ░ └───┘ ░ └───┘ ║  ║ └╥┘\n",
       "c: 3/═════════════════════════════════════════════════════════════════╩══╩══╩═\n",
       "                                                                      0  1  2 </pre>"
      ],
      "text/plain": [
       "     ┌───┐          ░ ┌───┐ ░ ┌───┐ ░                 ░ ┌───┐ ░ ┌───┐┌─┐      \n",
       "q_0: ┤ H ├─■─────■──░─┤ H ├─░─┤ X ├─░────────■────────░─┤ X ├─░─┤ H ├┤M├──────\n",
       "     ├───┤ │     │  ░ ├───┤ ░ ├───┤ ░        │        ░ ├───┤ ░ ├───┤└╥┘┌─┐   \n",
       "q_1: ┤ H ├─┼──■──■──░─┤ H ├─░─┤ X ├─░────────■────────░─┤ X ├─░─┤ H ├─╫─┤M├───\n",
       "     ├───┤ │  │     ░ ├───┤ ░ ├───┤ ░ ┌───┐┌─┴─┐┌───┐ ░ ├───┤ ░ ├───┤ ║ └╥┘┌─┐\n",
       "q_2: ┤ H ├─■──■─────░─┤ H ├─░─┤ X ├─░─┤ H ├┤ X ├┤ H ├─░─┤ X ├─░─┤ H ├─╫──╫─┤M├\n",
       "     └───┘          ░ └───┘ ░ └───┘ ░ └───┘└───┘└───┘ ░ └───┘ ░ └───┘ ║  ║ └╥┘\n",
       "c: 3/═════════════════════════════════════════════════════════════════╩══╩══╩═\n",
       "                                                                      0  1  2 "
      ]
     },
     "execution_count": 200,
     "metadata": {},
     "output_type": "execute_result"
    }
   ],
   "source": [
    "n = 3\n",
    "circuit = QuantumCircuit(n, n)\n",
    "circuit = init_s(circuit, [0, 1, 2])\n",
    "\n",
    "# circuit.x(3)\n",
    "# circuit.h(3)\n",
    "\n",
    "for i in range(1):\n",
    "#     circuit = Uf(circuit, n)\n",
    "#     circuit = ThreeQbitFlip_2e(circuit)\n",
    "    circuit = ThreeQbitFlip_2f(circuit)\n",
    "    circuit.barrier()\n",
    "    circuit = inverseMean(circuit, n)\n",
    "\n",
    "for i in range(n):\n",
    "    circuit.measure(i, i)\n",
    "\n",
    "circuit.draw()"
   ]
  },
  {
   "cell_type": "code",
   "execution_count": 201,
   "id": "d3204bc9",
   "metadata": {},
   "outputs": [
    {
     "name": "stdout",
     "output_type": "stream",
     "text": [
      "{'001': 273, '000': 254, '010': 268, '110': 248, '011': 251, '100': 232, '111': 289, '101': 233}\n"
     ]
    },
    {
     "data": {
      "image/png": "[encoded data removed]",
      "text/plain": [
       "<Figure size 504x360 with 1 Axes>"
      ]
     },
     "execution_count": 201,
     "metadata": {},
     "output_type": "execute_result"
    }
   ],
   "source": [
    "# # For IBMQ\n",
    "# from qiskit.tools.monitor import job_monitor\n",
    "# from qiskit.providers.ibmq import least_busy\n",
    "# # Load local account information\n",
    "# IBMQ.load_account()\n",
    "# # Get the least busy backend\n",
    "# provider = IBMQ.get_provider(hub='ibm-q')\n",
    "# backend = least_busy(provider.backends(filters=lambda x:\n",
    "# x.configuration().n_qubits >= 2\n",
    "# and not x.configuration().simulator\n",
    "# and x.status().operational==True))\n",
    "\n",
    "# job = execute(circuit, backend = backend, shots = 1024)\n",
    "# job_monitor(job)\n",
    "\n",
    "simulator = Aer.get_backend('qasm_simulator')\n",
    "job = execute(circuit, simulator, shots = 2048)\n",
    "result = job.result()\n",
    "counts = result.get_counts()\n",
    "print(counts)\n",
    "plot_histogram(counts)\n",
    "\n",
    "# simulator = Aer.get_backend('statevector_simulator')\n",
    "# job = execute(circuit, simulator)\n",
    "# result = job.result()\n",
    "# statevector = result.get_statevector()\n",
    "# print(statevector)\n",
    "# plot_bloch_multivector(statevector)\n"
   ]
  },
  {
   "cell_type": "code",
   "execution_count": null,
   "id": "86b2c7b5",
   "metadata": {},
   "outputs": [],
   "source": []
  }
 ],
 "metadata": {
  "interpreter": {
   "hash": "89dc071a23ec926ff4acce5e5ca1e5ffacad5599efe4639951d100fa2bafe3d4"
  },
  "kernelspec": {
   "display_name": "Python 3 (ipykernel)",
   "language": "python",
   "name": "python3"
  },
  "language_info": {
   "codemirror_mode": {
    "name": "ipython",
    "version": 3
   },
   "file_extension": ".py",
   "mimetype": "text/x-python",
   "name": "python",
   "nbconvert_exporter": "python",
   "pygments_lexer": "ipython3",
   "version": "3.8.12"
  }
 },
 "nbformat": 4,
 "nbformat_minor": 5
}
