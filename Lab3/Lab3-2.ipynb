{
 "cells": [
  {
   "cell_type": "code",
   "execution_count": 39,
   "source": [
    "import numpy as np\r\n",
    "from qiskit import *\r\n",
    "from qiskit.visualization import plot_histogram, plot_bloch_multivector"
   ],
   "outputs": [],
   "metadata": {}
  },
  {
   "cell_type": "code",
   "execution_count": 41,
   "source": [
    "def init_s(circuit, qubits):\r\n",
    "    for qubit in qubits:\r\n",
    "        circuit.h(qubit)\r\n",
    "    \r\n",
    "    return circuit\r\n"
   ],
   "outputs": [],
   "metadata": {}
  },
  {
   "cell_type": "code",
   "execution_count": 61,
   "source": [
    "n = 3\r\n",
    "circuit = QuantumCircuit(n+1, n)\r\n",
    "circuit = init_s(circuit, [0, 1, 2])\r\n",
    "\r\n",
    "circuit.x(3)\r\n",
    "circuit.h(3)\r\n",
    "\r\n",
    "circuit.barrier()\r\n",
    "\r\n",
    "circuit.x(0)\r\n",
    "circuit.mct(list(range(n)), n)\r\n",
    "circuit.x(0)\r\n",
    "\r\n",
    "circuit.barrier()\r\n",
    "for i in range(n):\r\n",
    "    circuit.measure(i, i)\r\n",
    "\r\n",
    "circuit.draw()"
   ],
   "outputs": [
    {
     "output_type": "execute_result",
     "data": {
      "text/html": [
       "<pre style=\"word-wrap: normal;white-space: pre;background: #fff0;line-height: 1.1;font-family: &quot;Courier New&quot;,Courier,monospace\">     ┌───┐      ░ ┌───┐     ┌───┐ ░ ┌─┐      \n",
       "q_0: ┤ H ├──────░─┤ X ├──■──┤ X ├─░─┤M├──────\n",
       "     ├───┤      ░ └───┘  │  └───┘ ░ └╥┘┌─┐   \n",
       "q_1: ┤ H ├──────░────────■────────░──╫─┤M├───\n",
       "     ├───┤      ░        │        ░  ║ └╥┘┌─┐\n",
       "q_2: ┤ H ├──────░────────■────────░──╫──╫─┤M├\n",
       "     ├───┤┌───┐ ░      ┌─┴─┐      ░  ║  ║ └╥┘\n",
       "q_3: ┤ X ├┤ H ├─░──────┤ X ├──────░──╫──╫──╫─\n",
       "     └───┘└───┘ ░      └───┘      ░  ║  ║  ║ \n",
       "c: 3/════════════════════════════════╩══╩══╩═\n",
       "                                     0  1  2 </pre>"
      ],
      "text/plain": [
       "     ┌───┐      ░ ┌───┐     ┌───┐ ░ ┌─┐      \n",
       "q_0: ┤ H ├──────░─┤ X ├──■──┤ X ├─░─┤M├──────\n",
       "     ├───┤      ░ └───┘  │  └───┘ ░ └╥┘┌─┐   \n",
       "q_1: ┤ H ├──────░────────■────────░──╫─┤M├───\n",
       "     ├───┤      ░        │        ░  ║ └╥┘┌─┐\n",
       "q_2: ┤ H ├──────░────────■────────░──╫──╫─┤M├\n",
       "     ├───┤┌───┐ ░      ┌─┴─┐      ░  ║  ║ └╥┘\n",
       "q_3: ┤ X ├┤ H ├─░──────┤ X ├──────░──╫──╫──╫─\n",
       "     └───┘└───┘ ░      └───┘      ░  ║  ║  ║ \n",
       "c: 3/════════════════════════════════╩══╩══╩═\n",
       "                                     0  1  2 "
      ]
     },
     "metadata": {},
     "execution_count": 61
    }
   ],
   "metadata": {}
  },
  {
   "cell_type": "code",
   "execution_count": 62,
   "source": [
    "simulator = Aer.get_backend('qasm_simulator')\r\n",
    "job = execute(circuit, simulator, shots = 1024)\r\n",
    "\r\n",
    "result = job.result()\r\n",
    "counts = result.get_counts()\r\n",
    "\r\n",
    "print(counts)\r\n",
    "plot_histogram(counts)\r\n"
   ],
   "outputs": [
    {
     "output_type": "stream",
     "name": "stdout",
     "text": [
      "{'001': 130, '010': 122, '100': 138, '000': 145, '011': 121, '101': 130, '111': 114, '110': 124}\n"
     ]
    },
    {
     "output_type": "execute_result",
     "data": {
      "image/png": "[encoded data removed]",
      "text/plain": [
       "<Figure size 504x360 with 1 Axes>"
      ]
     },
     "metadata": {},
     "execution_count": 62
    }
   ],
   "metadata": {}
  },
  {
   "cell_type": "code",
   "execution_count": 21,
   "source": [
    "grover_circuit.measure_all()\r\n",
    "\r\n",
    "simulator = Aer.get_backend('qasm_simulator')\r\n",
    "job = execute(grover_circuit, simulator, shots = 1024)\r\n",
    "result = job.result()\r\n",
    "counts = result.get_counts()\r\n",
    "plot_histogram(counts)"
   ],
   "outputs": [
    {
     "output_type": "execute_result",
     "data": {
      "image/png": "[encoded data removed]",
      "text/plain": [
       "<Figure size 504x360 with 1 Axes>"
      ]
     },
     "metadata": {},
     "execution_count": 21
    }
   ],
   "metadata": {}
  },
  {
   "cell_type": "code",
   "execution_count": null,
   "source": [],
   "outputs": [],
   "metadata": {}
  }
 ],
 "metadata": {
  "kernelspec": {
   "name": "python3",
   "display_name": "Python 3.9.7 64-bit ('IBMQ': conda)"
  },
  "language_info": {
   "codemirror_mode": {
    "name": "ipython",
    "version": 3
   },
   "file_extension": ".py",
   "mimetype": "text/x-python",
   "name": "python",
   "nbconvert_exporter": "python",
   "pygments_lexer": "ipython3",
   "version": "3.9.7"
  },
  "interpreter": {
   "hash": "89dc071a23ec926ff4acce5e5ca1e5ffacad5599efe4639951d100fa2bafe3d4"
  }
 },
 "nbformat": 4,
 "nbformat_minor": 5
}