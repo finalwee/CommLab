{
 "cells": [
  {
   "cell_type": "code",
   "execution_count": 1,
   "id": "12811a21",
   "metadata": {},
   "outputs": [],
   "source": [
    "import qiskit\n",
    "import numpy as np\n",
    "from qiskit import *\n",
    "from qiskit.visualization import plot_histogram, plot_bloch_multivector\n",
    "from math import sqrt, pi\n",
    "\n",
    "apitoken = '0ac08bc0e23b22dcff4888822d56241be15b0a64e77e94c42639a524404aafbc7df008ab6043e4706b3b82aa42f03c06464b3c253b92ddf1337e80048cf53be0'\n",
    "IBMQ.save_account(apitoken)\n",
    "\n"
   ]
  },
  {
   "cell_type": "code",
   "execution_count": 2,
   "id": "d38cf1c6",
   "metadata": {},
   "outputs": [],
   "source": [
    "n = 5\n",
    "q = QuantumRegister(n)\n",
    "c = ClassicalRegister(n)\n",
    "circuit = QuantumCircuit(q,c)"
   ]
  },
  {
   "cell_type": "code",
   "execution_count": 3,
   "id": "0ae3d83b",
   "metadata": {},
   "outputs": [
    {
     "data": {
      "text/html": [
       "<pre style=\"word-wrap: normal;white-space: pre;background: #fff0;line-height: 1.1;font-family: &quot;Courier New&quot;,Courier,monospace\">      ┌───┐┌─┐            \n",
       "q0_0: ┤ H ├┤M├────────────\n",
       "      ├───┤└╥┘┌─┐         \n",
       "q0_1: ┤ H ├─╫─┤M├─────────\n",
       "      ├───┤ ║ └╥┘┌─┐      \n",
       "q0_2: ┤ H ├─╫──╫─┤M├──────\n",
       "      ├───┤ ║  ║ └╥┘┌─┐   \n",
       "q0_3: ┤ H ├─╫──╫──╫─┤M├───\n",
       "      ├───┤ ║  ║  ║ └╥┘┌─┐\n",
       "q0_4: ┤ H ├─╫──╫──╫──╫─┤M├\n",
       "      └───┘ ║  ║  ║  ║ └╥┘\n",
       "c0: 5/══════╩══╩══╩══╩══╩═\n",
       "            0  1  2  3  4 </pre>"
      ],
      "text/plain": [
       "      ┌───┐┌─┐            \n",
       "q0_0: ┤ H ├┤M├────────────\n",
       "      ├───┤└╥┘┌─┐         \n",
       "q0_1: ┤ H ├─╫─┤M├─────────\n",
       "      ├───┤ ║ └╥┘┌─┐      \n",
       "q0_2: ┤ H ├─╫──╫─┤M├──────\n",
       "      ├───┤ ║  ║ └╥┘┌─┐   \n",
       "q0_3: ┤ H ├─╫──╫──╫─┤M├───\n",
       "      ├───┤ ║  ║  ║ └╥┘┌─┐\n",
       "q0_4: ┤ H ├─╫──╫──╫──╫─┤M├\n",
       "      └───┘ ║  ║  ║  ║ └╥┘\n",
       "c0: 5/══════╩══╩══╩══╩══╩═\n",
       "            0  1  2  3  4 "
      ]
     },
     "execution_count": 3,
     "metadata": {},
     "output_type": "execute_result"
    }
   ],
   "source": [
    "circuit.h(q)\n",
    "circuit.measure(q, c)\n",
    "circuit.draw()\n"
   ]
  },
  {
   "cell_type": "code",
   "execution_count": null,
   "id": "ba96e9a5",
   "metadata": {},
   "outputs": [],
   "source": [
    "IBMQ.load_account()\n",
    "provider = IBMQ.get_provider(hub = 'ibm-q', group = 'open', project = 'main')\n",
    "qcomp = provider.get_backend('ibmq_santiago')\n",
    "job = execute(circuit, backend = qcomp, shots = 1000)\n",
    "\n",
    "from qiskit.tools.monitor import job_monitor\n",
    "job_monitor(job)\n",
    "\n",
    "result = job.result()\n",
    "counts = result.get_counts(circuit)\n",
    "\n",
    "plot_histogram(counts)"
   ]
  }
 ],
 "metadata": {
  "kernelspec": {
   "display_name": "Python 3 (ipykernel)",
   "language": "python",
   "name": "python3"
  },
  "language_info": {
   "codemirror_mode": {
    "name": "ipython",
    "version": 3
   },
   "file_extension": ".py",
   "mimetype": "text/x-python",
   "name": "python",
   "nbconvert_exporter": "python",
   "pygments_lexer": "ipython3",
   "version": "3.9.7"
  }
 },
 "nbformat": 4,
 "nbformat_minor": 5
}
