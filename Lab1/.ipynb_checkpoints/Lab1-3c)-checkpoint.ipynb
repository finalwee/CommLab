{
 "cells": [
  {
   "cell_type": "code",
   "execution_count": 8,
   "id": "9cb23796",
   "metadata": {},
   "outputs": [],
   "source": [
    "import qiskit\n",
    "import numpy as np\n",
    "from qiskit import *\n",
    "from qiskit.visualization import plot_histogram, plot_bloch_multivector\n",
    "from math import sqrt, pi"
   ]
  },
  {
   "cell_type": "code",
   "execution_count": 12,
   "id": "bedea687",
   "metadata": {},
   "outputs": [],
   "source": [
    "q = QuantumRegister(1)\n",
    "c = ClassicalRegister(1)\n",
    "circuit = QuantumCircuit(q,c)"
   ]
  },
  {
   "cell_type": "code",
   "execution_count": 13,
   "id": "ff4f3867",
   "metadata": {},
   "outputs": [
    {
     "data": {
      "text/html": [
       "<pre style=\"word-wrap: normal;white-space: pre;background: #fff0;line-height: 1.1;font-family: &quot;Courier New&quot;,Courier,monospace\">       ┌───┐┌─┐\n",
       "q22_0: ┤ H ├┤M├\n",
       "       └───┘└╥┘\n",
       " c3: 1/══════╩═\n",
       "             0 </pre>"
      ],
      "text/plain": [
       "       ┌───┐┌─┐\n",
       "q22_0: ┤ H ├┤M├\n",
       "       └───┘└╥┘\n",
       " c3: 1/══════╩═\n",
       "             0 "
      ]
     },
     "execution_count": 13,
     "metadata": {},
     "output_type": "execute_result"
    }
   ],
   "source": [
    "# circuit.x(q)\n",
    "circuit.h(q)\n",
    "\n",
    "circuit.measure(q, c)\n",
    "circuit.draw()"
   ]
  },
  {
   "cell_type": "code",
   "execution_count": null,
   "id": "b95dab96",
   "metadata": {},
   "outputs": [],
   "source": [
    "simulator = Aer.get_backend('statevector_simulator')\n",
    "job = execute(circuit, simulator)\n",
    "result = job.result()\n",
    "statevector = result.get_statevector()\n",
    "print(statevector)\n",
    "plot_bloch_multivector(statevector)"
   ]
  },
  {
   "cell_type": "code",
   "execution_count": 11,
   "id": "2c7937db",
   "metadata": {},
   "outputs": [
    {
     "name": "stdout",
     "output_type": "stream",
     "text": [
      "{'1': 513, '0': 511}\n"
     ]
    },
    {
     "data": {
      "image/png": "[encoded data removed]",
      "text/plain": [
       "<Figure size 504x360 with 1 Axes>"
      ]
     },
     "execution_count": 11,
     "metadata": {},
     "output_type": "execute_result"
    }
   ],
   "source": [
    "simulator = Aer.get_backend('qasm_simulator')\n",
    "job = execute(circuit, simulator, shots = 1024)\n",
    "result = job.result()\n",
    "counts = result.get_counts()\n",
    "print(counts)\n",
    "plot_histogram(counts)"
   ]
  },
  {
   "cell_type": "code",
   "execution_count": null,
   "id": "980f055e",
   "metadata": {},
   "outputs": [],
   "source": []
  }
 ],
 "metadata": {
  "kernelspec": {
   "display_name": "Python 3 (ipykernel)",
   "language": "python",
   "name": "python3"
  },
  "language_info": {
   "codemirror_mode": {
    "name": "ipython",
    "version": 3
   },
   "file_extension": ".py",
   "mimetype": "text/x-python",
   "name": "python",
   "nbconvert_exporter": "python",
   "pygments_lexer": "ipython3",
   "version": "3.9.7"
  }
 },
 "nbformat": 4,
 "nbformat_minor": 5
}
