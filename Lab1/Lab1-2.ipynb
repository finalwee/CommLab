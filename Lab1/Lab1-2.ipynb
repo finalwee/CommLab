{
 "cells": [
  {
   "cell_type": "code",
   "execution_count": 1,
   "id": "6b71daf1",
   "metadata": {},
   "outputs": [],
   "source": [
    "import qiskit\n",
    "import numpy as np\n",
    "from qiskit import *\n",
    "from qiskit.visualization import plot_histogram, plot_bloch_multivector\n",
    "from math import sqrt, pi"
   ]
  },
  {
   "cell_type": "code",
   "execution_count": 2,
   "id": "e3bd70c0",
   "metadata": {},
   "outputs": [],
   "source": [
    "q = QuantumRegister(2)\n",
    "c = ClassicalRegister(2)\n",
    "circuit = QuantumCircuit(q,c)"
   ]
  },
  {
   "cell_type": "code",
   "execution_count": 3,
   "id": "90aa6e0b",
   "metadata": {},
   "outputs": [
    {
     "data": {
      "text/html": [
       "<pre style=\"word-wrap: normal;white-space: pre;background: #fff0;line-height: 1.1;font-family: &quot;Courier New&quot;,Courier,monospace\">      ┌───┐     ┌───┐     \n",
       "q0_0: ┤ H ├──■──┤ X ├──■──\n",
       "      └───┘┌─┴─┐└─┬─┘┌─┴─┐\n",
       "q0_1: ─────┤ X ├──■──┤ X ├\n",
       "           └───┘     └───┘\n",
       "c0: 2/════════════════════\n",
       "                          </pre>"
      ],
      "text/plain": [
       "      ┌───┐     ┌───┐     \n",
       "q0_0: ┤ H ├──■──┤ X ├──■──\n",
       "      └───┘┌─┴─┐└─┬─┘┌─┴─┐\n",
       "q0_1: ─────┤ X ├──■──┤ X ├\n",
       "           └───┘     └───┘\n",
       "c0: 2/════════════════════\n",
       "                          "
      ]
     },
     "execution_count": 3,
     "metadata": {},
     "output_type": "execute_result"
    }
   ],
   "source": [
    "circuit.h(q[0])\n",
    "circuit.cx(q[0], q[1])\n",
    "circuit.cx(q[1], q[0])\n",
    "circuit.cx(q[0], q[1])\n",
    "\n",
    "circuit.draw()"
   ]
  },
  {
   "cell_type": "code",
   "execution_count": 4,
   "id": "cde65680",
   "metadata": {},
   "outputs": [
    {
     "name": "stdout",
     "output_type": "stream",
     "text": [
      "[0.70710678+0.j 0.        +0.j 0.70710678+0.j 0.        +0.j]\n"
     ]
    }
   ],
   "source": [
    "simulator = Aer.get_backend('statevector_simulator')\n",
    "job = execute(circuit, simulator)\n",
    "result = job.result()\n",
    "statevector = result.get_statevector()\n",
    "print(statevector)"
   ]
  },
  {
   "cell_type": "code",
   "execution_count": 5,
   "id": "c3e1558f",
   "metadata": {},
   "outputs": [
    {
     "data": {
      "text/html": [
       "<pre style=\"word-wrap: normal;white-space: pre;background: #fff0;line-height: 1.1;font-family: &quot;Courier New&quot;,Courier,monospace\">      ┌───┐     ┌───┐     ┌─┐   \n",
       "q0_0: ┤ H ├──■──┤ X ├──■──┤M├───\n",
       "      └───┘┌─┴─┐└─┬─┘┌─┴─┐└╥┘┌─┐\n",
       "q0_1: ─────┤ X ├──■──┤ X ├─╫─┤M├\n",
       "           └───┘     └───┘ ║ └╥┘\n",
       "c0: 2/═════════════════════╩══╩═\n",
       "                           0  1 </pre>"
      ],
      "text/plain": [
       "      ┌───┐     ┌───┐     ┌─┐   \n",
       "q0_0: ┤ H ├──■──┤ X ├──■──┤M├───\n",
       "      └───┘┌─┴─┐└─┬─┘┌─┴─┐└╥┘┌─┐\n",
       "q0_1: ─────┤ X ├──■──┤ X ├─╫─┤M├\n",
       "           └───┘     └───┘ ║ └╥┘\n",
       "c0: 2/═════════════════════╩══╩═\n",
       "                           0  1 "
      ]
     },
     "execution_count": 5,
     "metadata": {},
     "output_type": "execute_result"
    }
   ],
   "source": [
    "circuit.measure(q,c)\n",
    "circuit.draw()"
   ]
  },
  {
   "cell_type": "code",
   "execution_count": 6,
   "id": "53149de6",
   "metadata": {
    "scrolled": true
   },
   "outputs": [
    {
     "name": "stdout",
     "output_type": "stream",
     "text": [
      "{'10': 547, '00': 477}\n"
     ]
    },
    {
     "data": {
      "image/png": "[encoded data removed]",
      "text/plain": [
       "<Figure size 504x360 with 1 Axes>"
      ]
     },
     "execution_count": 6,
     "metadata": {},
     "output_type": "execute_result"
    }
   ],
   "source": [
    "simulator = Aer.get_backend('qasm_simulator')\n",
    "job = execute(circuit, simulator, shots = 1024)\n",
    "result = job.result()\n",
    "counts = result.get_counts()\n",
    "print(counts)\n",
    "plot_histogram(counts)"
   ]
  },
  {
   "cell_type": "code",
   "execution_count": null,
   "id": "fe3bc446",
   "metadata": {},
   "outputs": [],
   "source": []
  }
 ],
 "metadata": {
  "kernelspec": {
   "display_name": "Python 3 (ipykernel)",
   "language": "python",
   "name": "python3"
  },
  "language_info": {
   "codemirror_mode": {
    "name": "ipython",
    "version": 3
   },
   "file_extension": ".py",
   "mimetype": "text/x-python",
   "name": "python",
   "nbconvert_exporter": "python",
   "pygments_lexer": "ipython3",
   "version": "3.8.12"
  }
 },
 "nbformat": 4,
 "nbformat_minor": 5
}
