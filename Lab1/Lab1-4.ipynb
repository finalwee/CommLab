{
 "cells": [
  {
   "cell_type": "code",
   "execution_count": 1,
   "id": "0f4772f4",
   "metadata": {},
   "outputs": [],
   "source": [
    "import qiskit\n",
    "import numpy as np\n",
    "from qiskit import *\n",
    "from qiskit.visualization import plot_histogram, plot_bloch_multivector\n",
    "from math import sqrt, pi"
   ]
  },
  {
   "cell_type": "code",
   "execution_count": 2,
   "id": "798b3396",
   "metadata": {},
   "outputs": [],
   "source": [
    "q = QuantumRegister(3)\n",
    "c = ClassicalRegister(1)\n",
    "circuit = QuantumCircuit(q,c)"
   ]
  },
  {
   "cell_type": "code",
   "execution_count": 3,
   "id": "aa8e6649",
   "metadata": {},
   "outputs": [
    {
     "data": {
      "text/html": [
       "<pre style=\"word-wrap: normal;white-space: pre;background: #fff0;line-height: 1.1;font-family: &quot;Courier New&quot;,Courier,monospace\">      ┌───┐                \n",
       "q0_0: ┤ H ├─X──────────────\n",
       "      └───┘ │              \n",
       "q0_1: ──────X──────────────\n",
       "      ┌───┐ │ ┌───┐┌───┐┌─┐\n",
       "q0_2: ┤ H ├─■─┤ H ├┤ X ├┤M├\n",
       "      └───┘   └───┘└───┘└╥┘\n",
       "c0: 1/═══════════════════╩═\n",
       "                         0 </pre>"
      ],
      "text/plain": [
       "      ┌───┐                \n",
       "q0_0: ┤ H ├─X──────────────\n",
       "      └───┘ │              \n",
       "q0_1: ──────X──────────────\n",
       "      ┌───┐ │ ┌───┐┌───┐┌─┐\n",
       "q0_2: ┤ H ├─■─┤ H ├┤ X ├┤M├\n",
       "      └───┘   └───┘└───┘└╥┘\n",
       "c0: 1/═══════════════════╩═\n",
       "                         0 "
      ]
     },
     "execution_count": 3,
     "metadata": {},
     "output_type": "execute_result"
    }
   ],
   "source": [
    "# circuit.x(q[0])\n",
    "# circuit.x(q[1])\n",
    "\n",
    "circuit.h(q[0])\n",
    "# circuit.h(q[1])\n",
    "\n",
    "# circuit.rx(pi/4, q[0])\n",
    "# circuit.rx(pi/4, q[1])\n",
    "\n",
    "circuit.h(q[2])\n",
    "circuit.cswap(q[2], q[1], q[0])\n",
    "circuit.h(q[2])\n",
    "circuit.x(q[2])\n",
    "\n",
    "circuit.measure(q[2], c)\n",
    "circuit.draw()"
   ]
  },
  {
   "cell_type": "code",
   "execution_count": 4,
   "id": "c3bad120",
   "metadata": {},
   "outputs": [
    {
     "name": "stdout",
     "output_type": "stream",
     "text": [
      "{'0': 260, '1': 764}\n"
     ]
    },
    {
     "data": {
      "image/png": "[encoded data removed]",
      "text/plain": [
       "<Figure size 504x360 with 1 Axes>"
      ]
     },
     "execution_count": 4,
     "metadata": {},
     "output_type": "execute_result"
    }
   ],
   "source": [
    "simulator = Aer.get_backend('qasm_simulator')\n",
    "job = execute(circuit, simulator, shots = 1024)\n",
    "result = job.result()\n",
    "counts = result.get_counts()\n",
    "print(counts)\n",
    "plot_histogram(counts)"
   ]
  },
  {
   "cell_type": "code",
   "execution_count": null,
   "id": "2c2f4369",
   "metadata": {},
   "outputs": [],
   "source": []
  }
 ],
 "metadata": {
  "kernelspec": {
   "display_name": "Python 3 (ipykernel)",
   "language": "python",
   "name": "python3"
  },
  "language_info": {
   "codemirror_mode": {
    "name": "ipython",
    "version": 3
   },
   "file_extension": ".py",
   "mimetype": "text/x-python",
   "name": "python",
   "nbconvert_exporter": "python",
   "pygments_lexer": "ipython3",
   "version": "3.8.12"
  }
 },
 "nbformat": 4,
 "nbformat_minor": 5
}
